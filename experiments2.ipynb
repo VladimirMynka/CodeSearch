{
 "cells": [
  {
   "cell_type": "markdown",
   "id": "22d425ad",
   "metadata": {},
   "source": [
    "#### 17.04.2023 - https://arxiv.org/pdf/2009.08366.pdf"
   ]
  },
  {
   "cell_type": "code",
   "execution_count": 17,
   "id": "780e441a",
   "metadata": {},
   "outputs": [],
   "source": [
    "import pandas as pd"
   ]
  },
  {
   "cell_type": "code",
   "execution_count": 18,
   "id": "a965db1b",
   "metadata": {},
   "outputs": [
    {
     "name": "stderr",
     "output_type": "stream",
     "text": [
      "Some weights of the model checkpoint at microsoft/graphcodebert-base were not used when initializing RobertaModel: ['lm_head.bias', 'lm_head.dense.bias', 'lm_head.decoder.bias', 'lm_head.dense.weight', 'lm_head.layer_norm.bias', 'lm_head.decoder.weight', 'lm_head.layer_norm.weight']\n",
      "- This IS expected if you are initializing RobertaModel from the checkpoint of a model trained on another task or with another architecture (e.g. initializing a BertForSequenceClassification model from a BertForPreTraining model).\n",
      "- This IS NOT expected if you are initializing RobertaModel from the checkpoint of a model that you expect to be exactly identical (initializing a BertForSequenceClassification model from a BertForSequenceClassification model).\n",
      "Some weights of RobertaModel were not initialized from the model checkpoint at microsoft/graphcodebert-base and are newly initialized: ['roberta.pooler.dense.bias', 'roberta.pooler.dense.weight']\n",
      "You should probably TRAIN this model on a down-stream task to be able to use it for predictions and inference.\n"
     ]
    }
   ],
   "source": [
    "from transformers import AutoModel, AutoTokenizer\n",
    "\n",
    "model_name = \"microsoft/graphcodebert-base\"\n",
    "tokenizer = AutoTokenizer.from_pretrained(model_name)\n",
    "model = AutoModel.from_pretrained(model_name)"
   ]
  },
  {
   "cell_type": "code",
   "execution_count": 43,
   "id": "3d485a86",
   "metadata": {},
   "outputs": [],
   "source": [
    "from tqdm.notebook import trange\n",
    "\n",
    "def get_vector(text):\n",
    "    return model(**(tokenizer(text, return_tensors='pt')))\n",
    "\n",
    "def get_vectors_for_batch(texts):\n",
    "    with torch.no_grad():\n",
    "        return model(**(tokenizer(list(texts), return_tensors='pt', padding=True, truncation=True, max_length=512)))['pooler_output']\n",
    "\n",
    "def get_vectors_for_texts(texts, batch_size):\n",
    "    steps = len(texts) // batch_size\n",
    "    if len(texts) % batch_size == 0:\n",
    "        steps -= 1\n",
    "    res = []\n",
    "    for step in trange(steps):\n",
    "        batch = texts[batch_size * step : batch_size * (step + 1)]\n",
    "        res += get_vectors_for_batch(batch)\n",
    "    return res"
   ]
  },
  {
   "cell_type": "code",
   "execution_count": 20,
   "id": "a24a7cff",
   "metadata": {},
   "outputs": [
    {
     "data": {
      "text/plain": [
       "{'input_ids': [0, 24061, 2], 'attention_mask': [1, 1, 1]}"
      ]
     },
     "execution_count": 20,
     "metadata": {},
     "output_type": "execute_result"
    }
   ],
   "source": [
    "get_vector(\"allo\")\n",
    "\n",
    "tokenizer(\"allo\")"
   ]
  },
  {
   "cell_type": "code",
   "execution_count": 21,
   "id": "58b0cf02",
   "metadata": {},
   "outputs": [
    {
     "data": {
      "text/plain": [
       "['<s>', 'allo', '</s>']"
      ]
     },
     "execution_count": 21,
     "metadata": {},
     "output_type": "execute_result"
    }
   ],
   "source": [
    "tokenizer.tokenize(\"allo\", add_special_tokens=True)"
   ]
  },
  {
   "cell_type": "code",
   "execution_count": 23,
   "id": "637c2897",
   "metadata": {
    "scrolled": false
   },
   "outputs": [
    {
     "name": "stderr",
     "output_type": "stream",
     "text": [
      "Found cached dataset parquet (C:/Users/79138/.cache/huggingface/datasets/PoolC___parquet/snoop2head--1-fold-clone-detection-600k-5fold-57d7a53828ee0494/0.0.0/2a3b91fbd88a2c90d1dbbb32b460cf621d31bd5b05b934492fdef7d8d6f236ec)\n"
     ]
    },
    {
     "data": {
      "application/vnd.jupyter.widget-view+json": {
       "model_id": "c32be579befd4073be17e2e942f97764",
       "version_major": 2,
       "version_minor": 0
      },
      "text/plain": [
       "  0%|          | 0/2 [00:00<?, ?it/s]"
      ]
     },
     "metadata": {},
     "output_type": "display_data"
    }
   ],
   "source": [
    "from datasets import load_dataset\n",
    "\n",
    "dataset = load_dataset(\"PoolC/1-fold-clone-detection-600k-5fold\")"
   ]
  },
  {
   "cell_type": "code",
   "execution_count": null,
   "id": "9ab93eb8",
   "metadata": {},
   "outputs": [],
   "source": [
    "train = dataset['train']"
   ]
  },
  {
   "cell_type": "code",
   "execution_count": null,
   "id": "7e19dea8",
   "metadata": {},
   "outputs": [],
   "source": [
    "i_will_use_data_train = pd.DataFrame(train[:10000])"
   ]
  },
  {
   "cell_type": "code",
   "execution_count": null,
   "id": "a18a0016",
   "metadata": {},
   "outputs": [],
   "source": [
    "del dataset, train"
   ]
  },
  {
   "cell_type": "code",
   "execution_count": null,
   "id": "96fa7357",
   "metadata": {},
   "outputs": [],
   "source": [
    "i_will_use_data_train.to_csv(\"data/train.csv\")"
   ]
  },
  {
   "cell_type": "code",
   "execution_count": null,
   "id": "c88aed10",
   "metadata": {},
   "outputs": [],
   "source": [
    "import torch\n",
    "\n",
    "cos = torch.nn.CosineSimilarity(dim=1, eps=1e-6)"
   ]
  },
  {
   "cell_type": "code",
   "execution_count": 44,
   "id": "14c6155e",
   "metadata": {},
   "outputs": [
    {
     "data": {
      "application/vnd.jupyter.widget-view+json": {
       "model_id": "f5a82bfe975444838029c71130c97dd7",
       "version_major": 2,
       "version_minor": 0
      },
      "text/plain": [
       "  0%|          | 0/9999 [00:00<?, ?it/s]"
      ]
     },
     "metadata": {},
     "output_type": "display_data"
    },
    {
     "ename": "KeyboardInterrupt",
     "evalue": "",
     "output_type": "error",
     "traceback": [
      "\u001b[1;31m---------------------------------------------------------------------------\u001b[0m",
      "\u001b[1;31mKeyboardInterrupt\u001b[0m                         Traceback (most recent call last)",
      "Input \u001b[1;32mIn [44]\u001b[0m, in \u001b[0;36m<module>\u001b[1;34m\u001b[0m\n\u001b[1;32m----> 1\u001b[0m vectors \u001b[38;5;241m=\u001b[39m \u001b[43mget_vectors_for_texts\u001b[49m\u001b[43m(\u001b[49m\u001b[43mi_will_use_data_train\u001b[49m\u001b[38;5;241;43m.\u001b[39;49m\u001b[43mcode1\u001b[49m\u001b[38;5;241;43m.\u001b[39;49m\u001b[43mvalues\u001b[49m\u001b[43m,\u001b[49m\u001b[43m \u001b[49m\u001b[38;5;241;43m1\u001b[39;49m\u001b[43m)\u001b[49m\n",
      "Input \u001b[1;32mIn [43]\u001b[0m, in \u001b[0;36mget_vectors_for_texts\u001b[1;34m(texts, batch_size)\u001b[0m\n\u001b[0;32m     15\u001b[0m \u001b[38;5;28;01mfor\u001b[39;00m step \u001b[38;5;129;01min\u001b[39;00m trange(steps):\n\u001b[0;32m     16\u001b[0m     batch \u001b[38;5;241m=\u001b[39m texts[batch_size \u001b[38;5;241m*\u001b[39m step : batch_size \u001b[38;5;241m*\u001b[39m (step \u001b[38;5;241m+\u001b[39m \u001b[38;5;241m1\u001b[39m)]\n\u001b[1;32m---> 17\u001b[0m     res \u001b[38;5;241m+\u001b[39m\u001b[38;5;241m=\u001b[39m \u001b[43mget_vectors_for_batch\u001b[49m\u001b[43m(\u001b[49m\u001b[43mbatch\u001b[49m\u001b[43m)\u001b[49m\n\u001b[0;32m     18\u001b[0m \u001b[38;5;28;01mreturn\u001b[39;00m res\n",
      "Input \u001b[1;32mIn [43]\u001b[0m, in \u001b[0;36mget_vectors_for_batch\u001b[1;34m(texts)\u001b[0m\n\u001b[0;32m      6\u001b[0m \u001b[38;5;28;01mdef\u001b[39;00m \u001b[38;5;21mget_vectors_for_batch\u001b[39m(texts):\n\u001b[0;32m      7\u001b[0m     \u001b[38;5;28;01mwith\u001b[39;00m torch\u001b[38;5;241m.\u001b[39mno_grad():\n\u001b[1;32m----> 8\u001b[0m         \u001b[38;5;28;01mreturn\u001b[39;00m model(\u001b[38;5;241m*\u001b[39m\u001b[38;5;241m*\u001b[39m(tokenizer(\u001b[38;5;28mlist\u001b[39m(texts), return_tensors\u001b[38;5;241m=\u001b[39m\u001b[38;5;124m'\u001b[39m\u001b[38;5;124mpt\u001b[39m\u001b[38;5;124m'\u001b[39m, padding\u001b[38;5;241m=\u001b[39m\u001b[38;5;28;01mTrue\u001b[39;00m, truncation\u001b[38;5;241m=\u001b[39m\u001b[38;5;28;01mTrue\u001b[39;00m, max_length\u001b[38;5;241m=\u001b[39m\u001b[38;5;241m512\u001b[39m)))[\u001b[38;5;124m'\u001b[39m\u001b[38;5;124mpooler_output\u001b[39m\u001b[38;5;124m'\u001b[39m]\n",
      "File \u001b[1;32m~\\AppData\\Local\\Programs\\Python\\Python310\\lib\\site-packages\\torch\\nn\\modules\\module.py:1501\u001b[0m, in \u001b[0;36mModule._call_impl\u001b[1;34m(self, *args, **kwargs)\u001b[0m\n\u001b[0;32m   1496\u001b[0m \u001b[38;5;66;03m# If we don't have any hooks, we want to skip the rest of the logic in\u001b[39;00m\n\u001b[0;32m   1497\u001b[0m \u001b[38;5;66;03m# this function, and just call forward.\u001b[39;00m\n\u001b[0;32m   1498\u001b[0m \u001b[38;5;28;01mif\u001b[39;00m \u001b[38;5;129;01mnot\u001b[39;00m (\u001b[38;5;28mself\u001b[39m\u001b[38;5;241m.\u001b[39m_backward_hooks \u001b[38;5;129;01mor\u001b[39;00m \u001b[38;5;28mself\u001b[39m\u001b[38;5;241m.\u001b[39m_backward_pre_hooks \u001b[38;5;129;01mor\u001b[39;00m \u001b[38;5;28mself\u001b[39m\u001b[38;5;241m.\u001b[39m_forward_hooks \u001b[38;5;129;01mor\u001b[39;00m \u001b[38;5;28mself\u001b[39m\u001b[38;5;241m.\u001b[39m_forward_pre_hooks\n\u001b[0;32m   1499\u001b[0m         \u001b[38;5;129;01mor\u001b[39;00m _global_backward_pre_hooks \u001b[38;5;129;01mor\u001b[39;00m _global_backward_hooks\n\u001b[0;32m   1500\u001b[0m         \u001b[38;5;129;01mor\u001b[39;00m _global_forward_hooks \u001b[38;5;129;01mor\u001b[39;00m _global_forward_pre_hooks):\n\u001b[1;32m-> 1501\u001b[0m     \u001b[38;5;28;01mreturn\u001b[39;00m forward_call(\u001b[38;5;241m*\u001b[39margs, \u001b[38;5;241m*\u001b[39m\u001b[38;5;241m*\u001b[39mkwargs)\n\u001b[0;32m   1502\u001b[0m \u001b[38;5;66;03m# Do not call functions when jit is used\u001b[39;00m\n\u001b[0;32m   1503\u001b[0m full_backward_hooks, non_full_backward_hooks \u001b[38;5;241m=\u001b[39m [], []\n",
      "File \u001b[1;32m~\\AppData\\Local\\Programs\\Python\\Python310\\lib\\site-packages\\transformers\\models\\roberta\\modeling_roberta.py:852\u001b[0m, in \u001b[0;36mRobertaModel.forward\u001b[1;34m(self, input_ids, attention_mask, token_type_ids, position_ids, head_mask, inputs_embeds, encoder_hidden_states, encoder_attention_mask, past_key_values, use_cache, output_attentions, output_hidden_states, return_dict)\u001b[0m\n\u001b[0;32m    843\u001b[0m head_mask \u001b[38;5;241m=\u001b[39m \u001b[38;5;28mself\u001b[39m\u001b[38;5;241m.\u001b[39mget_head_mask(head_mask, \u001b[38;5;28mself\u001b[39m\u001b[38;5;241m.\u001b[39mconfig\u001b[38;5;241m.\u001b[39mnum_hidden_layers)\n\u001b[0;32m    845\u001b[0m embedding_output \u001b[38;5;241m=\u001b[39m \u001b[38;5;28mself\u001b[39m\u001b[38;5;241m.\u001b[39membeddings(\n\u001b[0;32m    846\u001b[0m     input_ids\u001b[38;5;241m=\u001b[39minput_ids,\n\u001b[0;32m    847\u001b[0m     position_ids\u001b[38;5;241m=\u001b[39mposition_ids,\n\u001b[1;32m   (...)\u001b[0m\n\u001b[0;32m    850\u001b[0m     past_key_values_length\u001b[38;5;241m=\u001b[39mpast_key_values_length,\n\u001b[0;32m    851\u001b[0m )\n\u001b[1;32m--> 852\u001b[0m encoder_outputs \u001b[38;5;241m=\u001b[39m \u001b[38;5;28;43mself\u001b[39;49m\u001b[38;5;241;43m.\u001b[39;49m\u001b[43mencoder\u001b[49m\u001b[43m(\u001b[49m\n\u001b[0;32m    853\u001b[0m \u001b[43m    \u001b[49m\u001b[43membedding_output\u001b[49m\u001b[43m,\u001b[49m\n\u001b[0;32m    854\u001b[0m \u001b[43m    \u001b[49m\u001b[43mattention_mask\u001b[49m\u001b[38;5;241;43m=\u001b[39;49m\u001b[43mextended_attention_mask\u001b[49m\u001b[43m,\u001b[49m\n\u001b[0;32m    855\u001b[0m \u001b[43m    \u001b[49m\u001b[43mhead_mask\u001b[49m\u001b[38;5;241;43m=\u001b[39;49m\u001b[43mhead_mask\u001b[49m\u001b[43m,\u001b[49m\n\u001b[0;32m    856\u001b[0m \u001b[43m    \u001b[49m\u001b[43mencoder_hidden_states\u001b[49m\u001b[38;5;241;43m=\u001b[39;49m\u001b[43mencoder_hidden_states\u001b[49m\u001b[43m,\u001b[49m\n\u001b[0;32m    857\u001b[0m \u001b[43m    \u001b[49m\u001b[43mencoder_attention_mask\u001b[49m\u001b[38;5;241;43m=\u001b[39;49m\u001b[43mencoder_extended_attention_mask\u001b[49m\u001b[43m,\u001b[49m\n\u001b[0;32m    858\u001b[0m \u001b[43m    \u001b[49m\u001b[43mpast_key_values\u001b[49m\u001b[38;5;241;43m=\u001b[39;49m\u001b[43mpast_key_values\u001b[49m\u001b[43m,\u001b[49m\n\u001b[0;32m    859\u001b[0m \u001b[43m    \u001b[49m\u001b[43muse_cache\u001b[49m\u001b[38;5;241;43m=\u001b[39;49m\u001b[43muse_cache\u001b[49m\u001b[43m,\u001b[49m\n\u001b[0;32m    860\u001b[0m \u001b[43m    \u001b[49m\u001b[43moutput_attentions\u001b[49m\u001b[38;5;241;43m=\u001b[39;49m\u001b[43moutput_attentions\u001b[49m\u001b[43m,\u001b[49m\n\u001b[0;32m    861\u001b[0m \u001b[43m    \u001b[49m\u001b[43moutput_hidden_states\u001b[49m\u001b[38;5;241;43m=\u001b[39;49m\u001b[43moutput_hidden_states\u001b[49m\u001b[43m,\u001b[49m\n\u001b[0;32m    862\u001b[0m \u001b[43m    \u001b[49m\u001b[43mreturn_dict\u001b[49m\u001b[38;5;241;43m=\u001b[39;49m\u001b[43mreturn_dict\u001b[49m\u001b[43m,\u001b[49m\n\u001b[0;32m    863\u001b[0m \u001b[43m\u001b[49m\u001b[43m)\u001b[49m\n\u001b[0;32m    864\u001b[0m sequence_output \u001b[38;5;241m=\u001b[39m encoder_outputs[\u001b[38;5;241m0\u001b[39m]\n\u001b[0;32m    865\u001b[0m pooled_output \u001b[38;5;241m=\u001b[39m \u001b[38;5;28mself\u001b[39m\u001b[38;5;241m.\u001b[39mpooler(sequence_output) \u001b[38;5;28;01mif\u001b[39;00m \u001b[38;5;28mself\u001b[39m\u001b[38;5;241m.\u001b[39mpooler \u001b[38;5;129;01mis\u001b[39;00m \u001b[38;5;129;01mnot\u001b[39;00m \u001b[38;5;28;01mNone\u001b[39;00m \u001b[38;5;28;01melse\u001b[39;00m \u001b[38;5;28;01mNone\u001b[39;00m\n",
      "File \u001b[1;32m~\\AppData\\Local\\Programs\\Python\\Python310\\lib\\site-packages\\torch\\nn\\modules\\module.py:1501\u001b[0m, in \u001b[0;36mModule._call_impl\u001b[1;34m(self, *args, **kwargs)\u001b[0m\n\u001b[0;32m   1496\u001b[0m \u001b[38;5;66;03m# If we don't have any hooks, we want to skip the rest of the logic in\u001b[39;00m\n\u001b[0;32m   1497\u001b[0m \u001b[38;5;66;03m# this function, and just call forward.\u001b[39;00m\n\u001b[0;32m   1498\u001b[0m \u001b[38;5;28;01mif\u001b[39;00m \u001b[38;5;129;01mnot\u001b[39;00m (\u001b[38;5;28mself\u001b[39m\u001b[38;5;241m.\u001b[39m_backward_hooks \u001b[38;5;129;01mor\u001b[39;00m \u001b[38;5;28mself\u001b[39m\u001b[38;5;241m.\u001b[39m_backward_pre_hooks \u001b[38;5;129;01mor\u001b[39;00m \u001b[38;5;28mself\u001b[39m\u001b[38;5;241m.\u001b[39m_forward_hooks \u001b[38;5;129;01mor\u001b[39;00m \u001b[38;5;28mself\u001b[39m\u001b[38;5;241m.\u001b[39m_forward_pre_hooks\n\u001b[0;32m   1499\u001b[0m         \u001b[38;5;129;01mor\u001b[39;00m _global_backward_pre_hooks \u001b[38;5;129;01mor\u001b[39;00m _global_backward_hooks\n\u001b[0;32m   1500\u001b[0m         \u001b[38;5;129;01mor\u001b[39;00m _global_forward_hooks \u001b[38;5;129;01mor\u001b[39;00m _global_forward_pre_hooks):\n\u001b[1;32m-> 1501\u001b[0m     \u001b[38;5;28;01mreturn\u001b[39;00m forward_call(\u001b[38;5;241m*\u001b[39margs, \u001b[38;5;241m*\u001b[39m\u001b[38;5;241m*\u001b[39mkwargs)\n\u001b[0;32m   1502\u001b[0m \u001b[38;5;66;03m# Do not call functions when jit is used\u001b[39;00m\n\u001b[0;32m   1503\u001b[0m full_backward_hooks, non_full_backward_hooks \u001b[38;5;241m=\u001b[39m [], []\n",
      "File \u001b[1;32m~\\AppData\\Local\\Programs\\Python\\Python310\\lib\\site-packages\\transformers\\models\\roberta\\modeling_roberta.py:528\u001b[0m, in \u001b[0;36mRobertaEncoder.forward\u001b[1;34m(self, hidden_states, attention_mask, head_mask, encoder_hidden_states, encoder_attention_mask, past_key_values, use_cache, output_attentions, output_hidden_states, return_dict)\u001b[0m\n\u001b[0;32m    519\u001b[0m     layer_outputs \u001b[38;5;241m=\u001b[39m torch\u001b[38;5;241m.\u001b[39mutils\u001b[38;5;241m.\u001b[39mcheckpoint\u001b[38;5;241m.\u001b[39mcheckpoint(\n\u001b[0;32m    520\u001b[0m         create_custom_forward(layer_module),\n\u001b[0;32m    521\u001b[0m         hidden_states,\n\u001b[1;32m   (...)\u001b[0m\n\u001b[0;32m    525\u001b[0m         encoder_attention_mask,\n\u001b[0;32m    526\u001b[0m     )\n\u001b[0;32m    527\u001b[0m \u001b[38;5;28;01melse\u001b[39;00m:\n\u001b[1;32m--> 528\u001b[0m     layer_outputs \u001b[38;5;241m=\u001b[39m \u001b[43mlayer_module\u001b[49m\u001b[43m(\u001b[49m\n\u001b[0;32m    529\u001b[0m \u001b[43m        \u001b[49m\u001b[43mhidden_states\u001b[49m\u001b[43m,\u001b[49m\n\u001b[0;32m    530\u001b[0m \u001b[43m        \u001b[49m\u001b[43mattention_mask\u001b[49m\u001b[43m,\u001b[49m\n\u001b[0;32m    531\u001b[0m \u001b[43m        \u001b[49m\u001b[43mlayer_head_mask\u001b[49m\u001b[43m,\u001b[49m\n\u001b[0;32m    532\u001b[0m \u001b[43m        \u001b[49m\u001b[43mencoder_hidden_states\u001b[49m\u001b[43m,\u001b[49m\n\u001b[0;32m    533\u001b[0m \u001b[43m        \u001b[49m\u001b[43mencoder_attention_mask\u001b[49m\u001b[43m,\u001b[49m\n\u001b[0;32m    534\u001b[0m \u001b[43m        \u001b[49m\u001b[43mpast_key_value\u001b[49m\u001b[43m,\u001b[49m\n\u001b[0;32m    535\u001b[0m \u001b[43m        \u001b[49m\u001b[43moutput_attentions\u001b[49m\u001b[43m,\u001b[49m\n\u001b[0;32m    536\u001b[0m \u001b[43m    \u001b[49m\u001b[43m)\u001b[49m\n\u001b[0;32m    538\u001b[0m hidden_states \u001b[38;5;241m=\u001b[39m layer_outputs[\u001b[38;5;241m0\u001b[39m]\n\u001b[0;32m    539\u001b[0m \u001b[38;5;28;01mif\u001b[39;00m use_cache:\n",
      "File \u001b[1;32m~\\AppData\\Local\\Programs\\Python\\Python310\\lib\\site-packages\\torch\\nn\\modules\\module.py:1501\u001b[0m, in \u001b[0;36mModule._call_impl\u001b[1;34m(self, *args, **kwargs)\u001b[0m\n\u001b[0;32m   1496\u001b[0m \u001b[38;5;66;03m# If we don't have any hooks, we want to skip the rest of the logic in\u001b[39;00m\n\u001b[0;32m   1497\u001b[0m \u001b[38;5;66;03m# this function, and just call forward.\u001b[39;00m\n\u001b[0;32m   1498\u001b[0m \u001b[38;5;28;01mif\u001b[39;00m \u001b[38;5;129;01mnot\u001b[39;00m (\u001b[38;5;28mself\u001b[39m\u001b[38;5;241m.\u001b[39m_backward_hooks \u001b[38;5;129;01mor\u001b[39;00m \u001b[38;5;28mself\u001b[39m\u001b[38;5;241m.\u001b[39m_backward_pre_hooks \u001b[38;5;129;01mor\u001b[39;00m \u001b[38;5;28mself\u001b[39m\u001b[38;5;241m.\u001b[39m_forward_hooks \u001b[38;5;129;01mor\u001b[39;00m \u001b[38;5;28mself\u001b[39m\u001b[38;5;241m.\u001b[39m_forward_pre_hooks\n\u001b[0;32m   1499\u001b[0m         \u001b[38;5;129;01mor\u001b[39;00m _global_backward_pre_hooks \u001b[38;5;129;01mor\u001b[39;00m _global_backward_hooks\n\u001b[0;32m   1500\u001b[0m         \u001b[38;5;129;01mor\u001b[39;00m _global_forward_hooks \u001b[38;5;129;01mor\u001b[39;00m _global_forward_pre_hooks):\n\u001b[1;32m-> 1501\u001b[0m     \u001b[38;5;28;01mreturn\u001b[39;00m forward_call(\u001b[38;5;241m*\u001b[39margs, \u001b[38;5;241m*\u001b[39m\u001b[38;5;241m*\u001b[39mkwargs)\n\u001b[0;32m   1502\u001b[0m \u001b[38;5;66;03m# Do not call functions when jit is used\u001b[39;00m\n\u001b[0;32m   1503\u001b[0m full_backward_hooks, non_full_backward_hooks \u001b[38;5;241m=\u001b[39m [], []\n",
      "File \u001b[1;32m~\\AppData\\Local\\Programs\\Python\\Python310\\lib\\site-packages\\transformers\\models\\roberta\\modeling_roberta.py:413\u001b[0m, in \u001b[0;36mRobertaLayer.forward\u001b[1;34m(self, hidden_states, attention_mask, head_mask, encoder_hidden_states, encoder_attention_mask, past_key_value, output_attentions)\u001b[0m\n\u001b[0;32m    401\u001b[0m \u001b[38;5;28;01mdef\u001b[39;00m \u001b[38;5;21mforward\u001b[39m(\n\u001b[0;32m    402\u001b[0m     \u001b[38;5;28mself\u001b[39m,\n\u001b[0;32m    403\u001b[0m     hidden_states: torch\u001b[38;5;241m.\u001b[39mTensor,\n\u001b[1;32m   (...)\u001b[0m\n\u001b[0;32m    410\u001b[0m ) \u001b[38;5;241m-\u001b[39m\u001b[38;5;241m>\u001b[39m Tuple[torch\u001b[38;5;241m.\u001b[39mTensor]:\n\u001b[0;32m    411\u001b[0m     \u001b[38;5;66;03m# decoder uni-directional self-attention cached key/values tuple is at positions 1,2\u001b[39;00m\n\u001b[0;32m    412\u001b[0m     self_attn_past_key_value \u001b[38;5;241m=\u001b[39m past_key_value[:\u001b[38;5;241m2\u001b[39m] \u001b[38;5;28;01mif\u001b[39;00m past_key_value \u001b[38;5;129;01mis\u001b[39;00m \u001b[38;5;129;01mnot\u001b[39;00m \u001b[38;5;28;01mNone\u001b[39;00m \u001b[38;5;28;01melse\u001b[39;00m \u001b[38;5;28;01mNone\u001b[39;00m\n\u001b[1;32m--> 413\u001b[0m     self_attention_outputs \u001b[38;5;241m=\u001b[39m \u001b[38;5;28;43mself\u001b[39;49m\u001b[38;5;241;43m.\u001b[39;49m\u001b[43mattention\u001b[49m\u001b[43m(\u001b[49m\n\u001b[0;32m    414\u001b[0m \u001b[43m        \u001b[49m\u001b[43mhidden_states\u001b[49m\u001b[43m,\u001b[49m\n\u001b[0;32m    415\u001b[0m \u001b[43m        \u001b[49m\u001b[43mattention_mask\u001b[49m\u001b[43m,\u001b[49m\n\u001b[0;32m    416\u001b[0m \u001b[43m        \u001b[49m\u001b[43mhead_mask\u001b[49m\u001b[43m,\u001b[49m\n\u001b[0;32m    417\u001b[0m \u001b[43m        \u001b[49m\u001b[43moutput_attentions\u001b[49m\u001b[38;5;241;43m=\u001b[39;49m\u001b[43moutput_attentions\u001b[49m\u001b[43m,\u001b[49m\n\u001b[0;32m    418\u001b[0m \u001b[43m        \u001b[49m\u001b[43mpast_key_value\u001b[49m\u001b[38;5;241;43m=\u001b[39;49m\u001b[43mself_attn_past_key_value\u001b[49m\u001b[43m,\u001b[49m\n\u001b[0;32m    419\u001b[0m \u001b[43m    \u001b[49m\u001b[43m)\u001b[49m\n\u001b[0;32m    420\u001b[0m     attention_output \u001b[38;5;241m=\u001b[39m self_attention_outputs[\u001b[38;5;241m0\u001b[39m]\n\u001b[0;32m    422\u001b[0m     \u001b[38;5;66;03m# if decoder, the last output is tuple of self-attn cache\u001b[39;00m\n",
      "File \u001b[1;32m~\\AppData\\Local\\Programs\\Python\\Python310\\lib\\site-packages\\torch\\nn\\modules\\module.py:1501\u001b[0m, in \u001b[0;36mModule._call_impl\u001b[1;34m(self, *args, **kwargs)\u001b[0m\n\u001b[0;32m   1496\u001b[0m \u001b[38;5;66;03m# If we don't have any hooks, we want to skip the rest of the logic in\u001b[39;00m\n\u001b[0;32m   1497\u001b[0m \u001b[38;5;66;03m# this function, and just call forward.\u001b[39;00m\n\u001b[0;32m   1498\u001b[0m \u001b[38;5;28;01mif\u001b[39;00m \u001b[38;5;129;01mnot\u001b[39;00m (\u001b[38;5;28mself\u001b[39m\u001b[38;5;241m.\u001b[39m_backward_hooks \u001b[38;5;129;01mor\u001b[39;00m \u001b[38;5;28mself\u001b[39m\u001b[38;5;241m.\u001b[39m_backward_pre_hooks \u001b[38;5;129;01mor\u001b[39;00m \u001b[38;5;28mself\u001b[39m\u001b[38;5;241m.\u001b[39m_forward_hooks \u001b[38;5;129;01mor\u001b[39;00m \u001b[38;5;28mself\u001b[39m\u001b[38;5;241m.\u001b[39m_forward_pre_hooks\n\u001b[0;32m   1499\u001b[0m         \u001b[38;5;129;01mor\u001b[39;00m _global_backward_pre_hooks \u001b[38;5;129;01mor\u001b[39;00m _global_backward_hooks\n\u001b[0;32m   1500\u001b[0m         \u001b[38;5;129;01mor\u001b[39;00m _global_forward_hooks \u001b[38;5;129;01mor\u001b[39;00m _global_forward_pre_hooks):\n\u001b[1;32m-> 1501\u001b[0m     \u001b[38;5;28;01mreturn\u001b[39;00m forward_call(\u001b[38;5;241m*\u001b[39margs, \u001b[38;5;241m*\u001b[39m\u001b[38;5;241m*\u001b[39mkwargs)\n\u001b[0;32m   1502\u001b[0m \u001b[38;5;66;03m# Do not call functions when jit is used\u001b[39;00m\n\u001b[0;32m   1503\u001b[0m full_backward_hooks, non_full_backward_hooks \u001b[38;5;241m=\u001b[39m [], []\n",
      "File \u001b[1;32m~\\AppData\\Local\\Programs\\Python\\Python310\\lib\\site-packages\\transformers\\models\\roberta\\modeling_roberta.py:340\u001b[0m, in \u001b[0;36mRobertaAttention.forward\u001b[1;34m(self, hidden_states, attention_mask, head_mask, encoder_hidden_states, encoder_attention_mask, past_key_value, output_attentions)\u001b[0m\n\u001b[0;32m    330\u001b[0m \u001b[38;5;28;01mdef\u001b[39;00m \u001b[38;5;21mforward\u001b[39m(\n\u001b[0;32m    331\u001b[0m     \u001b[38;5;28mself\u001b[39m,\n\u001b[0;32m    332\u001b[0m     hidden_states: torch\u001b[38;5;241m.\u001b[39mTensor,\n\u001b[1;32m   (...)\u001b[0m\n\u001b[0;32m    338\u001b[0m     output_attentions: Optional[\u001b[38;5;28mbool\u001b[39m] \u001b[38;5;241m=\u001b[39m \u001b[38;5;28;01mFalse\u001b[39;00m,\n\u001b[0;32m    339\u001b[0m ) \u001b[38;5;241m-\u001b[39m\u001b[38;5;241m>\u001b[39m Tuple[torch\u001b[38;5;241m.\u001b[39mTensor]:\n\u001b[1;32m--> 340\u001b[0m     self_outputs \u001b[38;5;241m=\u001b[39m \u001b[38;5;28;43mself\u001b[39;49m\u001b[38;5;241;43m.\u001b[39;49m\u001b[43mself\u001b[49m\u001b[43m(\u001b[49m\n\u001b[0;32m    341\u001b[0m \u001b[43m        \u001b[49m\u001b[43mhidden_states\u001b[49m\u001b[43m,\u001b[49m\n\u001b[0;32m    342\u001b[0m \u001b[43m        \u001b[49m\u001b[43mattention_mask\u001b[49m\u001b[43m,\u001b[49m\n\u001b[0;32m    343\u001b[0m \u001b[43m        \u001b[49m\u001b[43mhead_mask\u001b[49m\u001b[43m,\u001b[49m\n\u001b[0;32m    344\u001b[0m \u001b[43m        \u001b[49m\u001b[43mencoder_hidden_states\u001b[49m\u001b[43m,\u001b[49m\n\u001b[0;32m    345\u001b[0m \u001b[43m        \u001b[49m\u001b[43mencoder_attention_mask\u001b[49m\u001b[43m,\u001b[49m\n\u001b[0;32m    346\u001b[0m \u001b[43m        \u001b[49m\u001b[43mpast_key_value\u001b[49m\u001b[43m,\u001b[49m\n\u001b[0;32m    347\u001b[0m \u001b[43m        \u001b[49m\u001b[43moutput_attentions\u001b[49m\u001b[43m,\u001b[49m\n\u001b[0;32m    348\u001b[0m \u001b[43m    \u001b[49m\u001b[43m)\u001b[49m\n\u001b[0;32m    349\u001b[0m     attention_output \u001b[38;5;241m=\u001b[39m \u001b[38;5;28mself\u001b[39m\u001b[38;5;241m.\u001b[39moutput(self_outputs[\u001b[38;5;241m0\u001b[39m], hidden_states)\n\u001b[0;32m    350\u001b[0m     outputs \u001b[38;5;241m=\u001b[39m (attention_output,) \u001b[38;5;241m+\u001b[39m self_outputs[\u001b[38;5;241m1\u001b[39m:]  \u001b[38;5;66;03m# add attentions if we output them\u001b[39;00m\n",
      "File \u001b[1;32m~\\AppData\\Local\\Programs\\Python\\Python310\\lib\\site-packages\\torch\\nn\\modules\\module.py:1501\u001b[0m, in \u001b[0;36mModule._call_impl\u001b[1;34m(self, *args, **kwargs)\u001b[0m\n\u001b[0;32m   1496\u001b[0m \u001b[38;5;66;03m# If we don't have any hooks, we want to skip the rest of the logic in\u001b[39;00m\n\u001b[0;32m   1497\u001b[0m \u001b[38;5;66;03m# this function, and just call forward.\u001b[39;00m\n\u001b[0;32m   1498\u001b[0m \u001b[38;5;28;01mif\u001b[39;00m \u001b[38;5;129;01mnot\u001b[39;00m (\u001b[38;5;28mself\u001b[39m\u001b[38;5;241m.\u001b[39m_backward_hooks \u001b[38;5;129;01mor\u001b[39;00m \u001b[38;5;28mself\u001b[39m\u001b[38;5;241m.\u001b[39m_backward_pre_hooks \u001b[38;5;129;01mor\u001b[39;00m \u001b[38;5;28mself\u001b[39m\u001b[38;5;241m.\u001b[39m_forward_hooks \u001b[38;5;129;01mor\u001b[39;00m \u001b[38;5;28mself\u001b[39m\u001b[38;5;241m.\u001b[39m_forward_pre_hooks\n\u001b[0;32m   1499\u001b[0m         \u001b[38;5;129;01mor\u001b[39;00m _global_backward_pre_hooks \u001b[38;5;129;01mor\u001b[39;00m _global_backward_hooks\n\u001b[0;32m   1500\u001b[0m         \u001b[38;5;129;01mor\u001b[39;00m _global_forward_hooks \u001b[38;5;129;01mor\u001b[39;00m _global_forward_pre_hooks):\n\u001b[1;32m-> 1501\u001b[0m     \u001b[38;5;28;01mreturn\u001b[39;00m forward_call(\u001b[38;5;241m*\u001b[39margs, \u001b[38;5;241m*\u001b[39m\u001b[38;5;241m*\u001b[39mkwargs)\n\u001b[0;32m   1502\u001b[0m \u001b[38;5;66;03m# Do not call functions when jit is used\u001b[39;00m\n\u001b[0;32m   1503\u001b[0m full_backward_hooks, non_full_backward_hooks \u001b[38;5;241m=\u001b[39m [], []\n",
      "File \u001b[1;32m~\\AppData\\Local\\Programs\\Python\\Python310\\lib\\site-packages\\transformers\\models\\roberta\\modeling_roberta.py:266\u001b[0m, in \u001b[0;36mRobertaSelfAttention.forward\u001b[1;34m(self, hidden_states, attention_mask, head_mask, encoder_hidden_states, encoder_attention_mask, past_key_value, output_attentions)\u001b[0m\n\u001b[0;32m    263\u001b[0m     attention_scores \u001b[38;5;241m=\u001b[39m attention_scores \u001b[38;5;241m+\u001b[39m attention_mask\n\u001b[0;32m    265\u001b[0m \u001b[38;5;66;03m# Normalize the attention scores to probabilities.\u001b[39;00m\n\u001b[1;32m--> 266\u001b[0m attention_probs \u001b[38;5;241m=\u001b[39m \u001b[43mnn\u001b[49m\u001b[38;5;241;43m.\u001b[39;49m\u001b[43mfunctional\u001b[49m\u001b[38;5;241;43m.\u001b[39;49m\u001b[43msoftmax\u001b[49m\u001b[43m(\u001b[49m\u001b[43mattention_scores\u001b[49m\u001b[43m,\u001b[49m\u001b[43m \u001b[49m\u001b[43mdim\u001b[49m\u001b[38;5;241;43m=\u001b[39;49m\u001b[38;5;241;43m-\u001b[39;49m\u001b[38;5;241;43m1\u001b[39;49m\u001b[43m)\u001b[49m\n\u001b[0;32m    268\u001b[0m \u001b[38;5;66;03m# This is actually dropping out entire tokens to attend to, which might\u001b[39;00m\n\u001b[0;32m    269\u001b[0m \u001b[38;5;66;03m# seem a bit unusual, but is taken from the original Transformer paper.\u001b[39;00m\n\u001b[0;32m    270\u001b[0m attention_probs \u001b[38;5;241m=\u001b[39m \u001b[38;5;28mself\u001b[39m\u001b[38;5;241m.\u001b[39mdropout(attention_probs)\n",
      "File \u001b[1;32m~\\AppData\\Local\\Programs\\Python\\Python310\\lib\\site-packages\\torch\\nn\\functional.py:1843\u001b[0m, in \u001b[0;36msoftmax\u001b[1;34m(input, dim, _stacklevel, dtype)\u001b[0m\n\u001b[0;32m   1841\u001b[0m     dim \u001b[38;5;241m=\u001b[39m _get_softmax_dim(\u001b[38;5;124m\"\u001b[39m\u001b[38;5;124msoftmax\u001b[39m\u001b[38;5;124m\"\u001b[39m, \u001b[38;5;28minput\u001b[39m\u001b[38;5;241m.\u001b[39mdim(), _stacklevel)\n\u001b[0;32m   1842\u001b[0m \u001b[38;5;28;01mif\u001b[39;00m dtype \u001b[38;5;129;01mis\u001b[39;00m \u001b[38;5;28;01mNone\u001b[39;00m:\n\u001b[1;32m-> 1843\u001b[0m     ret \u001b[38;5;241m=\u001b[39m \u001b[38;5;28;43minput\u001b[39;49m\u001b[38;5;241;43m.\u001b[39;49m\u001b[43msoftmax\u001b[49m\u001b[43m(\u001b[49m\u001b[43mdim\u001b[49m\u001b[43m)\u001b[49m\n\u001b[0;32m   1844\u001b[0m \u001b[38;5;28;01melse\u001b[39;00m:\n\u001b[0;32m   1845\u001b[0m     ret \u001b[38;5;241m=\u001b[39m \u001b[38;5;28minput\u001b[39m\u001b[38;5;241m.\u001b[39msoftmax(dim, dtype\u001b[38;5;241m=\u001b[39mdtype)\n",
      "\u001b[1;31mKeyboardInterrupt\u001b[0m: "
     ]
    }
   ],
   "source": [
    "vectors = get_vectors_for_texts(i_will_use_data_train.code1.values, 1)"
   ]
  },
  {
   "cell_type": "code",
   "execution_count": 16,
   "id": "5e2d41cc",
   "metadata": {},
   "outputs": [
    {
     "ename": "TypeError",
     "evalue": "cosine_similarity(): argument 'x1' (position 1) must be Tensor, not BaseModelOutputWithPoolingAndCrossAttentions",
     "output_type": "error",
     "traceback": [
      "\u001b[1;31m---------------------------------------------------------------------------\u001b[0m",
      "\u001b[1;31mTypeError\u001b[0m                                 Traceback (most recent call last)",
      "Input \u001b[1;32mIn [16]\u001b[0m, in \u001b[0;36m<module>\u001b[1;34m\u001b[0m\n\u001b[0;32m      2\u001b[0m vector1 \u001b[38;5;241m=\u001b[39m get_vector(i_will_use_data_train\u001b[38;5;241m.\u001b[39miloc[i][\u001b[38;5;124m'\u001b[39m\u001b[38;5;124mcode1\u001b[39m\u001b[38;5;124m'\u001b[39m])\n\u001b[0;32m      3\u001b[0m vector2 \u001b[38;5;241m=\u001b[39m get_vector(i_will_use_data_train\u001b[38;5;241m.\u001b[39miloc[i\u001b[38;5;241m+\u001b[39m\u001b[38;5;241m147\u001b[39m][\u001b[38;5;124m'\u001b[39m\u001b[38;5;124mcode2\u001b[39m\u001b[38;5;124m'\u001b[39m])\n\u001b[1;32m----> 5\u001b[0m output \u001b[38;5;241m=\u001b[39m \u001b[43mcos\u001b[49m\u001b[43m(\u001b[49m\u001b[43mvector1\u001b[49m\u001b[43m,\u001b[49m\u001b[43m \u001b[49m\u001b[43mvector2\u001b[49m\u001b[43m)\u001b[49m\n\u001b[0;32m      6\u001b[0m output\n",
      "File \u001b[1;32m~\\AppData\\Local\\Programs\\Python\\Python310\\lib\\site-packages\\torch\\nn\\modules\\module.py:1501\u001b[0m, in \u001b[0;36mModule._call_impl\u001b[1;34m(self, *args, **kwargs)\u001b[0m\n\u001b[0;32m   1496\u001b[0m \u001b[38;5;66;03m# If we don't have any hooks, we want to skip the rest of the logic in\u001b[39;00m\n\u001b[0;32m   1497\u001b[0m \u001b[38;5;66;03m# this function, and just call forward.\u001b[39;00m\n\u001b[0;32m   1498\u001b[0m \u001b[38;5;28;01mif\u001b[39;00m \u001b[38;5;129;01mnot\u001b[39;00m (\u001b[38;5;28mself\u001b[39m\u001b[38;5;241m.\u001b[39m_backward_hooks \u001b[38;5;129;01mor\u001b[39;00m \u001b[38;5;28mself\u001b[39m\u001b[38;5;241m.\u001b[39m_backward_pre_hooks \u001b[38;5;129;01mor\u001b[39;00m \u001b[38;5;28mself\u001b[39m\u001b[38;5;241m.\u001b[39m_forward_hooks \u001b[38;5;129;01mor\u001b[39;00m \u001b[38;5;28mself\u001b[39m\u001b[38;5;241m.\u001b[39m_forward_pre_hooks\n\u001b[0;32m   1499\u001b[0m         \u001b[38;5;129;01mor\u001b[39;00m _global_backward_pre_hooks \u001b[38;5;129;01mor\u001b[39;00m _global_backward_hooks\n\u001b[0;32m   1500\u001b[0m         \u001b[38;5;129;01mor\u001b[39;00m _global_forward_hooks \u001b[38;5;129;01mor\u001b[39;00m _global_forward_pre_hooks):\n\u001b[1;32m-> 1501\u001b[0m     \u001b[38;5;28;01mreturn\u001b[39;00m forward_call(\u001b[38;5;241m*\u001b[39margs, \u001b[38;5;241m*\u001b[39m\u001b[38;5;241m*\u001b[39mkwargs)\n\u001b[0;32m   1502\u001b[0m \u001b[38;5;66;03m# Do not call functions when jit is used\u001b[39;00m\n\u001b[0;32m   1503\u001b[0m full_backward_hooks, non_full_backward_hooks \u001b[38;5;241m=\u001b[39m [], []\n",
      "File \u001b[1;32m~\\AppData\\Local\\Programs\\Python\\Python310\\lib\\site-packages\\torch\\nn\\modules\\distance.py:87\u001b[0m, in \u001b[0;36mCosineSimilarity.forward\u001b[1;34m(self, x1, x2)\u001b[0m\n\u001b[0;32m     86\u001b[0m \u001b[38;5;28;01mdef\u001b[39;00m \u001b[38;5;21mforward\u001b[39m(\u001b[38;5;28mself\u001b[39m, x1: Tensor, x2: Tensor) \u001b[38;5;241m-\u001b[39m\u001b[38;5;241m>\u001b[39m Tensor:\n\u001b[1;32m---> 87\u001b[0m     \u001b[38;5;28;01mreturn\u001b[39;00m \u001b[43mF\u001b[49m\u001b[38;5;241;43m.\u001b[39;49m\u001b[43mcosine_similarity\u001b[49m\u001b[43m(\u001b[49m\u001b[43mx1\u001b[49m\u001b[43m,\u001b[49m\u001b[43m \u001b[49m\u001b[43mx2\u001b[49m\u001b[43m,\u001b[49m\u001b[43m \u001b[49m\u001b[38;5;28;43mself\u001b[39;49m\u001b[38;5;241;43m.\u001b[39;49m\u001b[43mdim\u001b[49m\u001b[43m,\u001b[49m\u001b[43m \u001b[49m\u001b[38;5;28;43mself\u001b[39;49m\u001b[38;5;241;43m.\u001b[39;49m\u001b[43meps\u001b[49m\u001b[43m)\u001b[49m\n",
      "\u001b[1;31mTypeError\u001b[0m: cosine_similarity(): argument 'x1' (position 1) must be Tensor, not BaseModelOutputWithPoolingAndCrossAttentions"
     ]
    }
   ],
   "source": [
    "i = 4\n",
    "vector1 = get_vector(i_will_use_data_train.iloc[i]['code1'])\n",
    "vector2 = get_vector(i_will_use_data_train.iloc[i+147]['code2'])\n",
    "\n",
    "output = cos(vector1, vector2)\n",
    "output"
   ]
  },
  {
   "cell_type": "code",
   "execution_count": 19,
   "id": "455001a5",
   "metadata": {},
   "outputs": [
    {
     "data": {
      "text/html": [
       "<div>\n",
       "<style scoped>\n",
       "    .dataframe tbody tr th:only-of-type {\n",
       "        vertical-align: middle;\n",
       "    }\n",
       "\n",
       "    .dataframe tbody tr th {\n",
       "        vertical-align: top;\n",
       "    }\n",
       "\n",
       "    .dataframe thead th {\n",
       "        text-align: right;\n",
       "    }\n",
       "</style>\n",
       "<table border=\"1\" class=\"dataframe\">\n",
       "  <thead>\n",
       "    <tr style=\"text-align: right;\">\n",
       "      <th></th>\n",
       "      <th>code1</th>\n",
       "      <th>code2</th>\n",
       "      <th>similar</th>\n",
       "      <th>pair_id</th>\n",
       "      <th>question_pair_id</th>\n",
       "      <th>code1_group</th>\n",
       "      <th>code2_group</th>\n",
       "    </tr>\n",
       "  </thead>\n",
       "  <tbody>\n",
       "    <tr>\n",
       "      <th>0</th>\n",
       "      <td>n, m, l = map(int, input().split())\\na = [list...</td>\n",
       "      <td>def main():\\n\\n    N, D = map(int, input().spl...</td>\n",
       "      <td>0</td>\n",
       "      <td>NaN</td>\n",
       "      <td>3.686762e+12</td>\n",
       "      <td>60</td>\n",
       "      <td>96</td>\n",
       "    </tr>\n",
       "    <tr>\n",
       "      <th>1</th>\n",
       "      <td>import math\\nalpha = []\\nwhile True:\\n    n = ...</td>\n",
       "      <td>import math\\n\\n\\ndef main():\\n    while True:\\...</td>\n",
       "      <td>1</td>\n",
       "      <td>1.867224e+11</td>\n",
       "      <td>NaN</td>\n",
       "      <td>31</td>\n",
       "      <td>31</td>\n",
       "    </tr>\n",
       "    <tr>\n",
       "      <th>2</th>\n",
       "      <td>H = int(input())\\n\\ndef attack(h):\\n    if h =...</td>\n",
       "      <td>h = int(input())\\n\\nans = 0\\nn_enemy = 1\\nwhil...</td>\n",
       "      <td>1</td>\n",
       "      <td>7.988436e+13</td>\n",
       "      <td>NaN</td>\n",
       "      <td>228</td>\n",
       "      <td>228</td>\n",
       "    </tr>\n",
       "    <tr>\n",
       "      <th>3</th>\n",
       "      <td>def lcm(a, b):\\n    from fractions import gcd\\...</td>\n",
       "      <td>suits = ['S', 'H', 'C', 'D']\\ntable = [[False]...</td>\n",
       "      <td>0</td>\n",
       "      <td>NaN</td>\n",
       "      <td>4.416509e+13</td>\n",
       "      <td>235</td>\n",
       "      <td>54</td>\n",
       "    </tr>\n",
       "    <tr>\n",
       "      <th>4</th>\n",
       "      <td>a1, a2, a3 = map(int, input().split(\" \"))\\ntmp...</td>\n",
       "      <td>#!/usr/bin/env python3\\n\\nimport sys\\nimport m...</td>\n",
       "      <td>1</td>\n",
       "      <td>1.188024e+14</td>\n",
       "      <td>NaN</td>\n",
       "      <td>260</td>\n",
       "      <td>260</td>\n",
       "    </tr>\n",
       "    <tr>\n",
       "      <th>...</th>\n",
       "      <td>...</td>\n",
       "      <td>...</td>\n",
       "      <td>...</td>\n",
       "      <td>...</td>\n",
       "      <td>...</td>\n",
       "      <td>...</td>\n",
       "      <td>...</td>\n",
       "    </tr>\n",
       "    <tr>\n",
       "      <th>99995</th>\n",
       "      <td>S = input()\\nT = input()\\nans = len(T)\\nfor i ...</td>\n",
       "      <td>import bisect\\nimport itertools\\nimport numpy ...</td>\n",
       "      <td>0</td>\n",
       "      <td>NaN</td>\n",
       "      <td>5.589089e+13</td>\n",
       "      <td>82</td>\n",
       "      <td>252</td>\n",
       "    </tr>\n",
       "    <tr>\n",
       "      <th>99996</th>\n",
       "      <td>import itertools\\n\\nN = int(input())\\nP = tupl...</td>\n",
       "      <td>n=str(input())\\na=list(n)\\nb=0\\nfor i in a:\\n ...</td>\n",
       "      <td>0</td>\n",
       "      <td>NaN</td>\n",
       "      <td>5.251741e+13</td>\n",
       "      <td>246</td>\n",
       "      <td>87</td>\n",
       "    </tr>\n",
       "    <tr>\n",
       "      <th>99997</th>\n",
       "      <td>n=int(input())\\ns=[str(input()) for _ in range...</td>\n",
       "      <td>A,B,C = map(int,input().split())\\nif C &gt; B and...</td>\n",
       "      <td>0</td>\n",
       "      <td>NaN</td>\n",
       "      <td>3.495554e+13</td>\n",
       "      <td>218</td>\n",
       "      <td>39</td>\n",
       "    </tr>\n",
       "    <tr>\n",
       "      <th>99998</th>\n",
       "      <td>A, B = map(float, input().split())\\n\\nA = int(...</td>\n",
       "      <td>while True:\\n  (m, f, r) = input().rstrip('\\r\\...</td>\n",
       "      <td>0</td>\n",
       "      <td>NaN</td>\n",
       "      <td>8.867122e+12</td>\n",
       "      <td>135</td>\n",
       "      <td>57</td>\n",
       "    </tr>\n",
       "    <tr>\n",
       "      <th>99999</th>\n",
       "      <td>import sys\\nsys.setrecursionlimit(10 ** 9)\\n\\n...</td>\n",
       "      <td>hoge = list(map(int, input().split()))\\nret = ...</td>\n",
       "      <td>0</td>\n",
       "      <td>NaN</td>\n",
       "      <td>6.576502e+13</td>\n",
       "      <td>269</td>\n",
       "      <td>40</td>\n",
       "    </tr>\n",
       "  </tbody>\n",
       "</table>\n",
       "<p>100000 rows × 7 columns</p>\n",
       "</div>"
      ],
      "text/plain": [
       "                                                   code1  \\\n",
       "0      n, m, l = map(int, input().split())\\na = [list...   \n",
       "1      import math\\nalpha = []\\nwhile True:\\n    n = ...   \n",
       "2      H = int(input())\\n\\ndef attack(h):\\n    if h =...   \n",
       "3      def lcm(a, b):\\n    from fractions import gcd\\...   \n",
       "4      a1, a2, a3 = map(int, input().split(\" \"))\\ntmp...   \n",
       "...                                                  ...   \n",
       "99995  S = input()\\nT = input()\\nans = len(T)\\nfor i ...   \n",
       "99996  import itertools\\n\\nN = int(input())\\nP = tupl...   \n",
       "99997  n=int(input())\\ns=[str(input()) for _ in range...   \n",
       "99998  A, B = map(float, input().split())\\n\\nA = int(...   \n",
       "99999  import sys\\nsys.setrecursionlimit(10 ** 9)\\n\\n...   \n",
       "\n",
       "                                                   code2  similar  \\\n",
       "0      def main():\\n\\n    N, D = map(int, input().spl...        0   \n",
       "1      import math\\n\\n\\ndef main():\\n    while True:\\...        1   \n",
       "2      h = int(input())\\n\\nans = 0\\nn_enemy = 1\\nwhil...        1   \n",
       "3      suits = ['S', 'H', 'C', 'D']\\ntable = [[False]...        0   \n",
       "4      #!/usr/bin/env python3\\n\\nimport sys\\nimport m...        1   \n",
       "...                                                  ...      ...   \n",
       "99995  import bisect\\nimport itertools\\nimport numpy ...        0   \n",
       "99996  n=str(input())\\na=list(n)\\nb=0\\nfor i in a:\\n ...        0   \n",
       "99997  A,B,C = map(int,input().split())\\nif C > B and...        0   \n",
       "99998  while True:\\n  (m, f, r) = input().rstrip('\\r\\...        0   \n",
       "99999  hoge = list(map(int, input().split()))\\nret = ...        0   \n",
       "\n",
       "            pair_id  question_pair_id  code1_group  code2_group  \n",
       "0               NaN      3.686762e+12           60           96  \n",
       "1      1.867224e+11               NaN           31           31  \n",
       "2      7.988436e+13               NaN          228          228  \n",
       "3               NaN      4.416509e+13          235           54  \n",
       "4      1.188024e+14               NaN          260          260  \n",
       "...             ...               ...          ...          ...  \n",
       "99995           NaN      5.589089e+13           82          252  \n",
       "99996           NaN      5.251741e+13          246           87  \n",
       "99997           NaN      3.495554e+13          218           39  \n",
       "99998           NaN      8.867122e+12          135           57  \n",
       "99999           NaN      6.576502e+13          269           40  \n",
       "\n",
       "[100000 rows x 7 columns]"
      ]
     },
     "execution_count": 19,
     "metadata": {},
     "output_type": "execute_result"
    }
   ],
   "source": [
    "i_will_use_data_train"
   ]
  },
  {
   "cell_type": "code",
   "execution_count": 24,
   "id": "a47258eb",
   "metadata": {},
   "outputs": [],
   "source": [
    "train = pd.read_csv(\"data/evaluated.csv\")"
   ]
  },
  {
   "cell_type": "code",
   "execution_count": 26,
   "id": "2ff6d1ff",
   "metadata": {},
   "outputs": [
    {
     "data": {
      "text/html": [
       "<div>\n",
       "<style scoped>\n",
       "    .dataframe tbody tr th:only-of-type {\n",
       "        vertical-align: middle;\n",
       "    }\n",
       "\n",
       "    .dataframe tbody tr th {\n",
       "        vertical-align: top;\n",
       "    }\n",
       "\n",
       "    .dataframe thead th {\n",
       "        text-align: right;\n",
       "    }\n",
       "</style>\n",
       "<table border=\"1\" class=\"dataframe\">\n",
       "  <thead>\n",
       "    <tr style=\"text-align: right;\">\n",
       "      <th></th>\n",
       "      <th>Unnamed: 0.1</th>\n",
       "      <th>Unnamed: 0</th>\n",
       "      <th>code1</th>\n",
       "      <th>code2</th>\n",
       "      <th>similar</th>\n",
       "      <th>pair_id</th>\n",
       "      <th>question_pair_id</th>\n",
       "      <th>code1_group</th>\n",
       "      <th>code2_group</th>\n",
       "      <th>simi</th>\n",
       "    </tr>\n",
       "  </thead>\n",
       "  <tbody>\n",
       "    <tr>\n",
       "      <th>0</th>\n",
       "      <td>0</td>\n",
       "      <td>0</td>\n",
       "      <td>n, m, l = map(int, input().split())\\na = [list...</td>\n",
       "      <td>def main():\\n\\n    N, D = map(int, input().spl...</td>\n",
       "      <td>0</td>\n",
       "      <td>NaN</td>\n",
       "      <td>3.686762e+12</td>\n",
       "      <td>60</td>\n",
       "      <td>96</td>\n",
       "      <td>0.882105</td>\n",
       "    </tr>\n",
       "    <tr>\n",
       "      <th>1</th>\n",
       "      <td>1</td>\n",
       "      <td>1</td>\n",
       "      <td>import math\\nalpha = []\\nwhile True:\\n    n = ...</td>\n",
       "      <td>import math\\n\\n\\ndef main():\\n    while True:\\...</td>\n",
       "      <td>1</td>\n",
       "      <td>1.867224e+11</td>\n",
       "      <td>NaN</td>\n",
       "      <td>31</td>\n",
       "      <td>31</td>\n",
       "      <td>0.889674</td>\n",
       "    </tr>\n",
       "    <tr>\n",
       "      <th>2</th>\n",
       "      <td>2</td>\n",
       "      <td>2</td>\n",
       "      <td>H = int(input())\\n\\ndef attack(h):\\n    if h =...</td>\n",
       "      <td>h = int(input())\\n\\nans = 0\\nn_enemy = 1\\nwhil...</td>\n",
       "      <td>1</td>\n",
       "      <td>7.988436e+13</td>\n",
       "      <td>NaN</td>\n",
       "      <td>228</td>\n",
       "      <td>228</td>\n",
       "      <td>0.857718</td>\n",
       "    </tr>\n",
       "    <tr>\n",
       "      <th>3</th>\n",
       "      <td>3</td>\n",
       "      <td>3</td>\n",
       "      <td>def lcm(a, b):\\n    from fractions import gcd\\...</td>\n",
       "      <td>suits = ['S', 'H', 'C', 'D']\\ntable = [[False]...</td>\n",
       "      <td>0</td>\n",
       "      <td>NaN</td>\n",
       "      <td>4.416509e+13</td>\n",
       "      <td>235</td>\n",
       "      <td>54</td>\n",
       "      <td>0.888247</td>\n",
       "    </tr>\n",
       "    <tr>\n",
       "      <th>4</th>\n",
       "      <td>4</td>\n",
       "      <td>4</td>\n",
       "      <td>a1, a2, a3 = map(int, input().split(\" \"))\\ntmp...</td>\n",
       "      <td>#!/usr/bin/env python3\\n\\nimport sys\\nimport m...</td>\n",
       "      <td>1</td>\n",
       "      <td>1.188024e+14</td>\n",
       "      <td>NaN</td>\n",
       "      <td>260</td>\n",
       "      <td>260</td>\n",
       "      <td>0.849339</td>\n",
       "    </tr>\n",
       "    <tr>\n",
       "      <th>...</th>\n",
       "      <td>...</td>\n",
       "      <td>...</td>\n",
       "      <td>...</td>\n",
       "      <td>...</td>\n",
       "      <td>...</td>\n",
       "      <td>...</td>\n",
       "      <td>...</td>\n",
       "      <td>...</td>\n",
       "      <td>...</td>\n",
       "      <td>...</td>\n",
       "    </tr>\n",
       "    <tr>\n",
       "      <th>9979</th>\n",
       "      <td>9979</td>\n",
       "      <td>9979</td>\n",
       "      <td>str_num = input()\\nnum_list = str_num.split()\\...</td>\n",
       "      <td>if __name__ == \"__main__\":\\n  a,b = map(int, i...</td>\n",
       "      <td>1</td>\n",
       "      <td>1.592214e+13</td>\n",
       "      <td>NaN</td>\n",
       "      <td>133</td>\n",
       "      <td>133</td>\n",
       "      <td>0.840594</td>\n",
       "    </tr>\n",
       "    <tr>\n",
       "      <th>9980</th>\n",
       "      <td>9980</td>\n",
       "      <td>9980</td>\n",
       "      <td>import math\\nalpha = []\\nwhile True:\\n    n = ...</td>\n",
       "      <td>import math\\nwhile True:\\n    n=int(input())\\n...</td>\n",
       "      <td>1</td>\n",
       "      <td>1.933779e+11</td>\n",
       "      <td>NaN</td>\n",
       "      <td>31</td>\n",
       "      <td>31</td>\n",
       "      <td>0.952995</td>\n",
       "    </tr>\n",
       "    <tr>\n",
       "      <th>9981</th>\n",
       "      <td>9981</td>\n",
       "      <td>9981</td>\n",
       "      <td>N, K, C = map(int, input().split())\\nS = input...</td>\n",
       "      <td>n, k, c = map(int, input().split())\\nS = input...</td>\n",
       "      <td>1</td>\n",
       "      <td>4.070239e+13</td>\n",
       "      <td>NaN</td>\n",
       "      <td>182</td>\n",
       "      <td>182</td>\n",
       "      <td>0.910506</td>\n",
       "    </tr>\n",
       "    <tr>\n",
       "      <th>9982</th>\n",
       "      <td>9982</td>\n",
       "      <td>9982</td>\n",
       "      <td>S = input()\\n\\nif S[len(S) - 1] == 's':\\n    p...</td>\n",
       "      <td>S=str(input())\\nif S[-1]=='s':\\n    S = S + 'e...</td>\n",
       "      <td>1</td>\n",
       "      <td>2.391197e+12</td>\n",
       "      <td>NaN</td>\n",
       "      <td>71</td>\n",
       "      <td>71</td>\n",
       "      <td>0.945273</td>\n",
       "    </tr>\n",
       "    <tr>\n",
       "      <th>9983</th>\n",
       "      <td>9983</td>\n",
       "      <td>9983</td>\n",
       "      <td>import sys\\nread = sys.stdin.read\\nreadlines =...</td>\n",
       "      <td>n = int(input())\\ns = input().replace(\"ABC\", \"...</td>\n",
       "      <td>0</td>\n",
       "      <td>NaN</td>\n",
       "      <td>5.545505e+13</td>\n",
       "      <td>118</td>\n",
       "      <td>245</td>\n",
       "      <td>0.754871</td>\n",
       "    </tr>\n",
       "  </tbody>\n",
       "</table>\n",
       "<p>9984 rows × 10 columns</p>\n",
       "</div>"
      ],
      "text/plain": [
       "      Unnamed: 0.1  Unnamed: 0  \\\n",
       "0                0           0   \n",
       "1                1           1   \n",
       "2                2           2   \n",
       "3                3           3   \n",
       "4                4           4   \n",
       "...            ...         ...   \n",
       "9979          9979        9979   \n",
       "9980          9980        9980   \n",
       "9981          9981        9981   \n",
       "9982          9982        9982   \n",
       "9983          9983        9983   \n",
       "\n",
       "                                                  code1  \\\n",
       "0     n, m, l = map(int, input().split())\\na = [list...   \n",
       "1     import math\\nalpha = []\\nwhile True:\\n    n = ...   \n",
       "2     H = int(input())\\n\\ndef attack(h):\\n    if h =...   \n",
       "3     def lcm(a, b):\\n    from fractions import gcd\\...   \n",
       "4     a1, a2, a3 = map(int, input().split(\" \"))\\ntmp...   \n",
       "...                                                 ...   \n",
       "9979  str_num = input()\\nnum_list = str_num.split()\\...   \n",
       "9980  import math\\nalpha = []\\nwhile True:\\n    n = ...   \n",
       "9981  N, K, C = map(int, input().split())\\nS = input...   \n",
       "9982  S = input()\\n\\nif S[len(S) - 1] == 's':\\n    p...   \n",
       "9983  import sys\\nread = sys.stdin.read\\nreadlines =...   \n",
       "\n",
       "                                                  code2  similar  \\\n",
       "0     def main():\\n\\n    N, D = map(int, input().spl...        0   \n",
       "1     import math\\n\\n\\ndef main():\\n    while True:\\...        1   \n",
       "2     h = int(input())\\n\\nans = 0\\nn_enemy = 1\\nwhil...        1   \n",
       "3     suits = ['S', 'H', 'C', 'D']\\ntable = [[False]...        0   \n",
       "4     #!/usr/bin/env python3\\n\\nimport sys\\nimport m...        1   \n",
       "...                                                 ...      ...   \n",
       "9979  if __name__ == \"__main__\":\\n  a,b = map(int, i...        1   \n",
       "9980  import math\\nwhile True:\\n    n=int(input())\\n...        1   \n",
       "9981  n, k, c = map(int, input().split())\\nS = input...        1   \n",
       "9982  S=str(input())\\nif S[-1]=='s':\\n    S = S + 'e...        1   \n",
       "9983  n = int(input())\\ns = input().replace(\"ABC\", \"...        0   \n",
       "\n",
       "           pair_id  question_pair_id  code1_group  code2_group      simi  \n",
       "0              NaN      3.686762e+12           60           96  0.882105  \n",
       "1     1.867224e+11               NaN           31           31  0.889674  \n",
       "2     7.988436e+13               NaN          228          228  0.857718  \n",
       "3              NaN      4.416509e+13          235           54  0.888247  \n",
       "4     1.188024e+14               NaN          260          260  0.849339  \n",
       "...            ...               ...          ...          ...       ...  \n",
       "9979  1.592214e+13               NaN          133          133  0.840594  \n",
       "9980  1.933779e+11               NaN           31           31  0.952995  \n",
       "9981  4.070239e+13               NaN          182          182  0.910506  \n",
       "9982  2.391197e+12               NaN           71           71  0.945273  \n",
       "9983           NaN      5.545505e+13          118          245  0.754871  \n",
       "\n",
       "[9984 rows x 10 columns]"
      ]
     },
     "execution_count": 26,
     "metadata": {},
     "output_type": "execute_result"
    }
   ],
   "source": [
    "train"
   ]
  },
  {
   "cell_type": "code",
   "execution_count": 27,
   "id": "5df9331d",
   "metadata": {},
   "outputs": [],
   "source": [
    "no = train[train.similar == 0].reset_index(drop=True)\n",
    "yes = train[train.similar == 1].reset_index(drop=True)"
   ]
  },
  {
   "cell_type": "code",
   "execution_count": 41,
   "id": "04677d2a",
   "metadata": {},
   "outputs": [],
   "source": [
    "thresholds = []\n",
    "precisions = []\n",
    "recalls = []\n",
    "f1s = []\n",
    "\n",
    "for i in range(0, 100):\n",
    "    t = i / 100\n",
    "    fn = len(yes[yes.simi < t])\n",
    "    tp = len(yes[yes.simi >= t])\n",
    "    fp = len(no[no.simi >= t])\n",
    "\n",
    "    pre = 0 if tp == 0 else tp / (tp + fp) \n",
    "    rec = 0 if tp == 0 else tp / (fn + tp)\n",
    "    f1 = 0 if tp == 0 else 2 * pre * rec / (pre + rec)\n",
    "\n",
    "    thresholds.append(t)\n",
    "    precisions.append(pre)\n",
    "    recalls.append(rec)\n",
    "    f1s.append(f1)"
   ]
  },
  {
   "cell_type": "code",
   "execution_count": 42,
   "id": "9e04760e",
   "metadata": {},
   "outputs": [
    {
     "data": {
      "text/plain": [
       "[<matplotlib.lines.Line2D at 0x22d7cac67a0>]"
      ]
     },
     "execution_count": 42,
     "metadata": {},
     "output_type": "execute_result"
    },
    {
     "data": {
      "image/png": "[encoded data removed]",
      "text/plain": [
       "<Figure size 432x288 with 1 Axes>"
      ]
     },
     "metadata": {
      "needs_background": "light"
     },
     "output_type": "display_data"
    }
   ],
   "source": [
    "import matplotlib.pyplot as plt\n",
    "\n",
    "plt.plot(f1s)"
   ]
  },
  {
   "cell_type": "code",
   "execution_count": 45,
   "id": "c843e8f9",
   "metadata": {},
   "outputs": [
    {
     "data": {
      "application/vnd.jupyter.widget-view+json": {
       "model_id": "f0723f7d23a045c3a09305d000177d2c",
       "version_major": 2,
       "version_minor": 0
      },
      "text/plain": [
       "Downloading builder script:   0%|          | 0.00/3.73k [00:00<?, ?B/s]"
      ]
     },
     "metadata": {},
     "output_type": "display_data"
    },
    {
     "data": {
      "application/vnd.jupyter.widget-view+json": {
       "model_id": "003ff68d3c274cd8a5565fe5ed513cb6",
       "version_major": 2,
       "version_minor": 0
      },
      "text/plain": [
       "Downloading metadata:   0%|          | 0.00/3.51k [00:00<?, ?B/s]"
      ]
     },
     "metadata": {},
     "output_type": "display_data"
    },
    {
     "data": {
      "application/vnd.jupyter.widget-view+json": {
       "model_id": "098869a2ed384ca3ad086a35232d0ad4",
       "version_major": 2,
       "version_minor": 0
      },
      "text/plain": [
       "Downloading readme:   0%|          | 0.00/6.76k [00:00<?, ?B/s]"
      ]
     },
     "metadata": {},
     "output_type": "display_data"
    },
    {
     "data": {
      "application/vnd.jupyter.widget-view+json": {
       "model_id": "7174610fa9c34f92b18ceff815c3391e",
       "version_major": 2,
       "version_minor": 0
      },
      "text/plain": [
       "Downloading extra modules:   0%|          | 0.00/2.35k [00:00<?, ?B/s]"
      ]
     },
     "metadata": {},
     "output_type": "display_data"
    },
    {
     "data": {
      "application/vnd.jupyter.widget-view+json": {
       "model_id": "95d8f876e6004ff38497248c0841622e",
       "version_major": 2,
       "version_minor": 0
      },
      "text/plain": [
       "Downloading extra modules:   0%|          | 0.00/711 [00:00<?, ?B/s]"
      ]
     },
     "metadata": {},
     "output_type": "display_data"
    },
    {
     "name": "stdout",
     "output_type": "stream",
     "text": [
      "Downloading and preparing dataset code_x_glue_cc_clone_detection_big_clone_bench/default to C:/Users/79138/.cache/huggingface/datasets/code_x_glue_cc_clone_detection_big_clone_bench/default/0.0.0/4c85673dc4ced396531cf81e6c10e61f23eca84ca840ca137f52a15dd19c8789...\n"
     ]
    },
    {
     "data": {
      "application/vnd.jupyter.widget-view+json": {
       "model_id": "811cde66485f4748b3b37e21726638e9",
       "version_major": 2,
       "version_minor": 0
      },
      "text/plain": [
       "Downloading data files:   0%|          | 0/2 [00:00<?, ?it/s]"
      ]
     },
     "metadata": {},
     "output_type": "display_data"
    },
    {
     "data": {
      "application/vnd.jupyter.widget-view+json": {
       "model_id": "34ea473fa2a746dc90aa0ddf7601fa06",
       "version_major": 2,
       "version_minor": 0
      },
      "text/plain": [
       "Downloading data:   0%|          | 0.00/6.77M [00:00<?, ?B/s]"
      ]
     },
     "metadata": {},
     "output_type": "display_data"
    },
    {
     "data": {
      "application/vnd.jupyter.widget-view+json": {
       "model_id": "7aaf4dd9f5b84101bb9c6f5732c555ab",
       "version_major": 2,
       "version_minor": 0
      },
      "text/plain": [
       "Downloading data:   0%|          | 0.00/2.77M [00:00<?, ?B/s]"
      ]
     },
     "metadata": {},
     "output_type": "display_data"
    },
    {
     "data": {
      "application/vnd.jupyter.widget-view+json": {
       "model_id": "000894bebd374f6ea2d38a5c4889468e",
       "version_major": 2,
       "version_minor": 0
      },
      "text/plain": [
       "Extracting data files:   0%|          | 0/2 [00:00<?, ?it/s]"
      ]
     },
     "metadata": {},
     "output_type": "display_data"
    },
    {
     "data": {
      "application/vnd.jupyter.widget-view+json": {
       "model_id": "f01fe821f86048008caab5e72e42610d",
       "version_major": 2,
       "version_minor": 0
      },
      "text/plain": [
       "Downloading data files:   0%|          | 0/2 [00:00<?, ?it/s]"
      ]
     },
     "metadata": {},
     "output_type": "display_data"
    },
    {
     "data": {
      "application/vnd.jupyter.widget-view+json": {
       "model_id": "a40ed9833aec45acbfa172eba9c6f2ea",
       "version_major": 2,
       "version_minor": 0
      },
      "text/plain": [
       "Downloading data:   0%|          | 0.00/1.95M [00:00<?, ?B/s]"
      ]
     },
     "metadata": {},
     "output_type": "display_data"
    },
    {
     "data": {
      "application/vnd.jupyter.widget-view+json": {
       "model_id": "15430fdf96f44bfb9ea3c461a3fc84f6",
       "version_major": 2,
       "version_minor": 0
      },
      "text/plain": [
       "Extracting data files:   0%|          | 0/2 [00:00<?, ?it/s]"
      ]
     },
     "metadata": {},
     "output_type": "display_data"
    },
    {
     "data": {
      "application/vnd.jupyter.widget-view+json": {
       "model_id": "47f1eb7992264e58a600609d12a5f85e",
       "version_major": 2,
       "version_minor": 0
      },
      "text/plain": [
       "Downloading data files:   0%|          | 0/2 [00:00<?, ?it/s]"
      ]
     },
     "metadata": {},
     "output_type": "display_data"
    },
    {
     "data": {
      "application/vnd.jupyter.widget-view+json": {
       "model_id": "1c0e512eb2d94d7197416fae9115f81d",
       "version_major": 2,
       "version_minor": 0
      },
      "text/plain": [
       "Downloading data:   0%|          | 0.00/1.95M [00:00<?, ?B/s]"
      ]
     },
     "metadata": {},
     "output_type": "display_data"
    },
    {
     "data": {
      "application/vnd.jupyter.widget-view+json": {
       "model_id": "0d4a861461a342aba95cbcfde00a1f9d",
       "version_major": 2,
       "version_minor": 0
      },
      "text/plain": [
       "Extracting data files:   0%|          | 0/2 [00:00<?, ?it/s]"
      ]
     },
     "metadata": {},
     "output_type": "display_data"
    },
    {
     "data": {
      "application/vnd.jupyter.widget-view+json": {
       "model_id": "",
       "version_major": 2,
       "version_minor": 0
      },
      "text/plain": [
       "Generating train split:   0%|          | 0/901028 [00:00<?, ? examples/s]"
      ]
     },
     "metadata": {},
     "output_type": "display_data"
    },
    {
     "data": {
      "application/vnd.jupyter.widget-view+json": {
       "model_id": "",
       "version_major": 2,
       "version_minor": 0
      },
      "text/plain": [
       "Generating validation split:   0%|          | 0/415416 [00:00<?, ? examples/s]"
      ]
     },
     "metadata": {},
     "output_type": "display_data"
    },
    {
     "data": {
      "application/vnd.jupyter.widget-view+json": {
       "model_id": "",
       "version_major": 2,
       "version_minor": 0
      },
      "text/plain": [
       "Generating test split:   0%|          | 0/415416 [00:00<?, ? examples/s]"
      ]
     },
     "metadata": {},
     "output_type": "display_data"
    },
    {
     "name": "stdout",
     "output_type": "stream",
     "text": [
      "Dataset code_x_glue_cc_clone_detection_big_clone_bench downloaded and prepared to C:/Users/79138/.cache/huggingface/datasets/code_x_glue_cc_clone_detection_big_clone_bench/default/0.0.0/4c85673dc4ced396531cf81e6c10e61f23eca84ca840ca137f52a15dd19c8789. Subsequent calls will reuse this data.\n"
     ]
    },
    {
     "data": {
      "application/vnd.jupyter.widget-view+json": {
       "model_id": "4df6d23e49e3491cbb05d57e13df888a",
       "version_major": 2,
       "version_minor": 0
      },
      "text/plain": [
       "  0%|          | 0/3 [00:00<?, ?it/s]"
      ]
     },
     "metadata": {},
     "output_type": "display_data"
    }
   ],
   "source": [
    "from datasets import load_dataset\n",
    "\n",
    "dataset = load_dataset(\"code_x_glue_cc_clone_detection_big_clone_bench\")"
   ]
  },
  {
   "cell_type": "code",
   "execution_count": 51,
   "id": "743a0ca0",
   "metadata": {},
   "outputs": [],
   "source": [
    "pd.DataFrame(dataset['train'][:10000]).to_csv(\"data/java_train.csv\")"
   ]
  },
  {
   "cell_type": "code",
   "execution_count": 52,
   "id": "d3b6da85",
   "metadata": {},
   "outputs": [],
   "source": [
    "java_train = pd.read_csv(\"data/java_train.csv\")"
   ]
  },
  {
   "cell_type": "code",
   "execution_count": 60,
   "id": "30e208d4",
   "metadata": {},
   "outputs": [
    {
     "data": {
      "text/plain": [
       "True     505\n",
       "False    495\n",
       "Name: label, dtype: int64"
      ]
     },
     "execution_count": 60,
     "metadata": {},
     "output_type": "execute_result"
    }
   ],
   "source": [
    "java_train[:1000].label.value_counts()"
   ]
  },
  {
   "cell_type": "code",
   "execution_count": 61,
   "id": "683a131c",
   "metadata": {},
   "outputs": [
    {
     "data": {
      "application/vnd.jupyter.widget-view+json": {
       "model_id": "4be194835977471e9564fe4004671058",
       "version_major": 2,
       "version_minor": 0
      },
      "text/plain": [
       "  0%|          | 0/999 [00:00<?, ?it/s]"
      ]
     },
     "metadata": {},
     "output_type": "display_data"
    }
   ],
   "source": [
    "ss_vectors = get_vectors_for_texts(java_train.func1[:1000].values, 1) "
   ]
  },
  {
   "cell_type": "code",
   "execution_count": 62,
   "id": "44995add",
   "metadata": {},
   "outputs": [
    {
     "data": {
      "application/vnd.jupyter.widget-view+json": {
       "model_id": "54e37c1b449443d4bd6affd6be252995",
       "version_major": 2,
       "version_minor": 0
      },
      "text/plain": [
       "  0%|          | 0/999 [00:00<?, ?it/s]"
      ]
     },
     "metadata": {},
     "output_type": "display_data"
    }
   ],
   "source": [
    "ss_vectors2 = get_vectors_for_texts(java_train.func2[:1000].values, 1) "
   ]
  },
  {
   "cell_type": "code",
   "execution_count": 64,
   "id": "28cc21c9",
   "metadata": {},
   "outputs": [],
   "source": [
    "sims = cos(torch.stack(ss_vectors), torch.stack(ss_vectors2))"
   ]
  },
  {
   "cell_type": "code",
   "execution_count": 69,
   "id": "14c9509f",
   "metadata": {},
   "outputs": [],
   "source": [
    "java_train = java_train[:999]"
   ]
  },
  {
   "cell_type": "code",
   "execution_count": 70,
   "id": "935adeec",
   "metadata": {},
   "outputs": [
    {
     "name": "stderr",
     "output_type": "stream",
     "text": [
      "C:\\Users\\79138\\AppData\\Local\\Temp\\ipykernel_17156\\2777314523.py:1: SettingWithCopyWarning: \n",
      "A value is trying to be set on a copy of a slice from a DataFrame.\n",
      "Try using .loc[row_indexer,col_indexer] = value instead\n",
      "\n",
      "See the caveats in the documentation: https://pandas.pydata.org/pandas-docs/stable/user_guide/indexing.html#returning-a-view-versus-a-copy\n",
      "  java_train[\"simi\"] = sims.numpy()\n"
     ]
    }
   ],
   "source": [
    "java_train[\"simi\"] = sims.numpy()"
   ]
  },
  {
   "cell_type": "code",
   "execution_count": 72,
   "id": "c66e3b8b",
   "metadata": {},
   "outputs": [],
   "source": [
    "no = java_train[~java_train.label]\n",
    "yes = java_train[java_train.label]"
   ]
  },
  {
   "cell_type": "code",
   "execution_count": 73,
   "id": "2be5ae11",
   "metadata": {},
   "outputs": [],
   "source": [
    "thresholds = []\n",
    "precisions = []\n",
    "recalls = []\n",
    "f1s = []\n",
    "\n",
    "for i in range(0, 100):\n",
    "    t = i / 100\n",
    "    fn = len(yes[yes.simi < t])\n",
    "    tp = len(yes[yes.simi >= t])\n",
    "    fp = len(no[no.simi >= t])\n",
    "\n",
    "    pre = 0 if tp == 0 else tp / (tp + fp) \n",
    "    rec = 0 if tp == 0 else tp / (fn + tp)\n",
    "    f1 = 0 if tp == 0 else 2 * pre * rec / (pre + rec)\n",
    "\n",
    "    thresholds.append(t)\n",
    "    precisions.append(pre)\n",
    "    recalls.append(rec)\n",
    "    f1s.append(f1)"
   ]
  },
  {
   "cell_type": "code",
   "execution_count": 74,
   "id": "a7ace6f5",
   "metadata": {},
   "outputs": [
    {
     "data": {
      "text/plain": [
       "[<matplotlib.lines.Line2D at 0x22d87a31660>]"
      ]
     },
     "execution_count": 74,
     "metadata": {},
     "output_type": "execute_result"
    },
    {
     "data": {
      "image/png": "[encoded data removed]",
      "text/plain": [
       "<Figure size 432x288 with 1 Axes>"
      ]
     },
     "metadata": {
      "needs_background": "light"
     },
     "output_type": "display_data"
    }
   ],
   "source": [
    "import matplotlib.pyplot as plt\n",
    "\n",
    "plt.plot(f1s)"
   ]
  },
  {
   "cell_type": "code",
   "execution_count": 95,
   "id": "02856fb0",
   "metadata": {},
   "outputs": [],
   "source": [
    "from sklearn.metrics import roc_auc_score, roc_curve, RocCurveDisplay"
   ]
  },
  {
   "cell_type": "code",
   "execution_count": 99,
   "id": "9417c589",
   "metadata": {},
   "outputs": [
    {
     "name": "stdout",
     "output_type": "stream",
     "text": [
      "Roc-AUC: 0.7406401571331223\n"
     ]
    },
    {
     "data": {
      "image/png": "[encoded data removed]",
      "text/plain": [
       "<Figure size 432x288 with 1 Axes>"
      ]
     },
     "metadata": {
      "needs_background": "light"
     },
     "output_type": "display_data"
    }
   ],
   "source": [
    "fpr, tpr, _ = roc_curve(java_train.label, java_train.simi)\n",
    "roc_display = RocCurveDisplay(fpr=fpr, tpr=tpr).plot()\n",
    "print(f\"Roc-AUC: {roc_auc_score(java_train.label, java_train.simi)}\")"
   ]
  },
  {
   "cell_type": "code",
   "execution_count": null,
   "id": "e94ab840",
   "metadata": {},
   "outputs": [],
   "source": [
    "thresholds = []\n",
    "precisions = []\n",
    "recalls = []\n",
    "f1s = []\n",
    "\n",
    "for i in range(0, 100):\n",
    "    t = i / 100\n",
    "    fn = len(yes[yes.simi < t])\n",
    "    tp = len(yes[yes.simi >= t])\n",
    "    fp = len(no[no.simi >= t])\n",
    "\n",
    "    pre = 0 if tp == 0 else tp / (tp + fp) \n",
    "    rec = 0 if tp == 0 else tp / (fn + tp)\n",
    "    f1 = 0 if tp == 0 else 2 * pre * rec / (pre + rec)\n",
    "\n",
    "    thresholds.append(t)\n",
    "    precisions.append(pre)\n",
    "    recalls.append(rec)\n",
    "    f1s.append(f1)"
   ]
  },
  {
   "cell_type": "code",
   "execution_count": 100,
   "id": "ebc0d494",
   "metadata": {},
   "outputs": [
    {
     "data": {
      "text/plain": [
       "[0.6715425531914894,\n",
       " 0.6715425531914894,\n",
       " 0.6715425531914894,\n",
       " 0.6715425531914894,\n",
       " 0.6715425531914894,\n",
       " 0.6715425531914894,\n",
       " 0.6715425531914894,\n",
       " 0.6715425531914894,\n",
       " 0.6715425531914894,\n",
       " 0.6715425531914894,\n",
       " 0.6715425531914894,\n",
       " 0.6715425531914894,\n",
       " 0.6715425531914894,\n",
       " 0.6715425531914894,\n",
       " 0.6715425531914894,\n",
       " 0.6715425531914894,\n",
       " 0.6715425531914894,\n",
       " 0.6715425531914894,\n",
       " 0.6715425531914894,\n",
       " 0.6715425531914894,\n",
       " 0.6715425531914894,\n",
       " 0.6715425531914894,\n",
       " 0.6715425531914894,\n",
       " 0.6715425531914894,\n",
       " 0.6715425531914894,\n",
       " 0.6715425531914894,\n",
       " 0.6715425531914894,\n",
       " 0.6715425531914894,\n",
       " 0.6715425531914894,\n",
       " 0.6715425531914894,\n",
       " 0.6715425531914894,\n",
       " 0.6715425531914894,\n",
       " 0.6715425531914894,\n",
       " 0.6715425531914894,\n",
       " 0.6715425531914894,\n",
       " 0.6715425531914894,\n",
       " 0.6715425531914894,\n",
       " 0.6715425531914894,\n",
       " 0.6715425531914894,\n",
       " 0.6715425531914894,\n",
       " 0.6715425531914894,\n",
       " 0.6715425531914894,\n",
       " 0.6715425531914894,\n",
       " 0.6715425531914894,\n",
       " 0.6715425531914894,\n",
       " 0.6715425531914894,\n",
       " 0.6715425531914894,\n",
       " 0.6715425531914894,\n",
       " 0.6715425531914894,\n",
       " 0.6715425531914894,\n",
       " 0.6715425531914894,\n",
       " 0.6715425531914894,\n",
       " 0.6715425531914894,\n",
       " 0.6715425531914894,\n",
       " 0.6715425531914894,\n",
       " 0.6715425531914894,\n",
       " 0.6715425531914894,\n",
       " 0.6715425531914894,\n",
       " 0.6715425531914894,\n",
       " 0.6715425531914894,\n",
       " 0.6715425531914894,\n",
       " 0.6715425531914894,\n",
       " 0.6715425531914894,\n",
       " 0.6715425531914894,\n",
       " 0.6715425531914894,\n",
       " 0.6715425531914894,\n",
       " 0.6715425531914894,\n",
       " 0.6715425531914894,\n",
       " 0.6715425531914894,\n",
       " 0.6715425531914894,\n",
       " 0.6715425531914894,\n",
       " 0.6715425531914894,\n",
       " 0.6719893546240853,\n",
       " 0.6719893546240853,\n",
       " 0.6719893546240853,\n",
       " 0.6719893546240853,\n",
       " 0.6719893546240853,\n",
       " 0.6719893546240853,\n",
       " 0.6728847435043304,\n",
       " 0.6729096989966555,\n",
       " 0.6742780389523169,\n",
       " 0.6747474747474749,\n",
       " 0.6789115646258503,\n",
       " 0.6846100759144238,\n",
       " 0.6883392226148409,\n",
       " 0.6898550724637682,\n",
       " 0.6943396226415096,\n",
       " 0.7010475423045931,\n",
       " 0.6888111888111889,\n",
       " 0.6776699029126214,\n",
       " 0.6470588235294118,\n",
       " 0.5885286783042394,\n",
       " 0.48382559774964845,\n",
       " 0.379905808477237,\n",
       " 0.2564102564102564,\n",
       " 0.15356489945155394,\n",
       " 0.05769230769230769,\n",
       " 0.007889546351084813,\n",
       " 0.007889546351084813,\n",
       " 0.003952569169960474]"
      ]
     },
     "execution_count": 100,
     "metadata": {},
     "output_type": "execute_result"
    }
   ],
   "source": [
    "f1s"
   ]
  },
  {
   "cell_type": "code",
   "execution_count": null,
   "id": "c635c364",
   "metadata": {},
   "outputs": [],
   "source": []
  },
  {
   "cell_type": "code",
   "execution_count": 140,
   "id": "1a56b254",
   "metadata": {},
   "outputs": [],
   "source": [
    "from tree_sitter import Language, Parser, Tree, TreeCursor, Node\n",
    "from IPython.display import clear_output, display, Markdown\n",
    "import pandas as pd\n",
    "import numpy as np\n",
    "import time"
   ]
  },
  {
   "cell_type": "code",
   "execution_count": 18,
   "id": "7b95b5aa",
   "metadata": {},
   "outputs": [
    {
     "data": {
      "text/html": [
       "<div>\n",
       "<style scoped>\n",
       "    .dataframe tbody tr th:only-of-type {\n",
       "        vertical-align: middle;\n",
       "    }\n",
       "\n",
       "    .dataframe tbody tr th {\n",
       "        vertical-align: top;\n",
       "    }\n",
       "\n",
       "    .dataframe thead th {\n",
       "        text-align: right;\n",
       "    }\n",
       "</style>\n",
       "<table border=\"1\" class=\"dataframe\">\n",
       "  <thead>\n",
       "    <tr style=\"text-align: right;\">\n",
       "      <th></th>\n",
       "      <th>Unnamed: 0</th>\n",
       "      <th>id</th>\n",
       "      <th>id1</th>\n",
       "      <th>id2</th>\n",
       "      <th>func1</th>\n",
       "      <th>func2</th>\n",
       "      <th>label</th>\n",
       "    </tr>\n",
       "  </thead>\n",
       "  <tbody>\n",
       "    <tr>\n",
       "      <th>0</th>\n",
       "      <td>0</td>\n",
       "      <td>108</td>\n",
       "      <td>8452567</td>\n",
       "      <td>13688266</td>\n",
       "      <td>private static JSONObject sendCouchRequest...</td>\n",
       "      <td>@Override\\n    public boolean checkLink(St...</td>\n",
       "      <td>False</td>\n",
       "    </tr>\n",
       "    <tr>\n",
       "      <th>1</th>\n",
       "      <td>1</td>\n",
       "      <td>39</td>\n",
       "      <td>23530036</td>\n",
       "      <td>14196271</td>\n",
       "      <td>public void save(boolean saveAs) {\\n      ...</td>\n",
       "      <td>private synchronized File zipTempFile(File...</td>\n",
       "      <td>False</td>\n",
       "    </tr>\n",
       "    <tr>\n",
       "      <th>2</th>\n",
       "      <td>2</td>\n",
       "      <td>42</td>\n",
       "      <td>323592</td>\n",
       "      <td>9327648</td>\n",
       "      <td>public void elimina(Pedido pe) throws erro...</td>\n",
       "      <td>public File getPreprocessedTextFile(File o...</td>\n",
       "      <td>False</td>\n",
       "    </tr>\n",
       "  </tbody>\n",
       "</table>\n",
       "</div>"
      ],
      "text/plain": [
       "   Unnamed: 0   id       id1       id2  \\\n",
       "0           0  108   8452567  13688266   \n",
       "1           1   39  23530036  14196271   \n",
       "2           2   42    323592   9327648   \n",
       "\n",
       "                                               func1  \\\n",
       "0      private static JSONObject sendCouchRequest...   \n",
       "1      public void save(boolean saveAs) {\\n      ...   \n",
       "2      public void elimina(Pedido pe) throws erro...   \n",
       "\n",
       "                                               func2  label  \n",
       "0      @Override\\n    public boolean checkLink(St...  False  \n",
       "1      private synchronized File zipTempFile(File...  False  \n",
       "2      public File getPreprocessedTextFile(File o...  False  "
      ]
     },
     "execution_count": 18,
     "metadata": {},
     "output_type": "execute_result"
    }
   ],
   "source": [
    "data = pd.read_csv(\"java_test.csv\")\n",
    "data.head(3)"
   ]
  },
  {
   "cell_type": "code",
   "execution_count": 341,
   "id": "1eb77e50",
   "metadata": {},
   "outputs": [
    {
     "data": {
      "text/markdown": [
       "```java\n",
       "    public String encrypt(final char[] password, final String algorithm, final byte[] salt) {\n",
       "        final StringBuffer buffer = new StringBuffer();\n",
       "        MessageDigest digest = null;\n",
       "        int size = 0;\n",
       "        if (\"SHA\".equalsIgnoreCase(algorithm) || \"SSHA\".equalsIgnoreCase(algorithm)) {\n",
       "            size = 20;\n",
       "            if ((salt != null) && (salt.length > 0)) {\n",
       "                buffer.append(\"{SSHA}\");\n",
       "            } else {\n",
       "                buffer.append(\"{SHA}\");\n",
       "            }\n",
       "            try {\n",
       "                digest = MessageDigest.getInstance(\"SHA-1\");\n",
       "            } catch (final NoSuchAlgorithmException e) {\n",
       "                throw new IllegalStateException(\"Invalid algorithm\");\n",
       "            }\n",
       "        } else if (\"MD5\".equalsIgnoreCase(algorithm) || \"SMD5\".equalsIgnoreCase(algorithm)) {\n",
       "            size = 16;\n",
       "            if ((salt != null) && (salt.length > 0)) {\n",
       "                buffer.append(\"{SMD5}\");\n",
       "            } else {\n",
       "                buffer.append(\"{MD5}\");\n",
       "            }\n",
       "            try {\n",
       "                digest = MessageDigest.getInstance(\"MD5\");\n",
       "            } catch (final NoSuchAlgorithmException e) {\n",
       "                throw new IllegalStateException(\"Invalid algorithm\");\n",
       "            }\n",
       "        } else {\n",
       "            throw new UnsupportedOperationException(\"Not implemented\");\n",
       "        }\n",
       "        int outSize = size;\n",
       "        digest.reset();\n",
       "        try {\n",
       "            digest.update(new String(password).getBytes(\"UTF-8\"));\n",
       "        } catch (UnsupportedEncodingException e) {\n",
       "            throw new IllegalStateException(\"UTF-8 Unsupported\");\n",
       "        }\n",
       "        if ((salt != null) && (salt.length > 0)) {\n",
       "            digest.update(salt);\n",
       "            outSize += salt.length;\n",
       "        }\n",
       "        final byte[] out = new byte[outSize];\n",
       "        System.arraycopy(digest.digest(), 0, out, 0, size);\n",
       "        if ((salt != null) && (salt.length > 0)) {\n",
       "            System.arraycopy(salt, 0, out, size, salt.length);\n",
       "        }\n",
       "        buffer.append(new String(Base64.encodeBase64(out)));\n",
       "        return buffer.toString();\n",
       "    }\n",
       "\n",
       "```"
      ],
      "text/plain": [
       "<IPython.core.display.Markdown object>"
      ]
     },
     "execution_count": 341,
     "metadata": {},
     "output_type": "execute_result"
    }
   ],
   "source": [
    "i = 3\n",
    "func = data.func1.iloc[i]\n",
    "Markdown(f\"\"\"```java\n",
    "{func}\n",
    "```\"\"\")"
   ]
  },
  {
   "cell_type": "code",
   "execution_count": 22,
   "id": "6f0ae527",
   "metadata": {},
   "outputs": [
    {
     "data": {
      "text/plain": [
       "False"
      ]
     },
     "execution_count": 22,
     "metadata": {},
     "output_type": "execute_result"
    }
   ],
   "source": [
    "Language.build_library(\n",
    "  # Store the library in the `build` directory\n",
    "  'build/my-languages.so',\n",
    "\n",
    "  # Include one or more languages\n",
    "  [\n",
    "    'vendor/tree-sitter-java'\n",
    "  ]\n",
    ")"
   ]
  },
  {
   "cell_type": "code",
   "execution_count": 23,
   "id": "f7db3eca",
   "metadata": {},
   "outputs": [],
   "source": [
    "JAVA = Language('build/my-languages.so', 'java')"
   ]
  },
  {
   "cell_type": "code",
   "execution_count": 24,
   "id": "60f8dda8",
   "metadata": {},
   "outputs": [],
   "source": [
    "parser = Parser()\n",
    "parser.set_language(JAVA)"
   ]
  },
  {
   "cell_type": "code",
   "execution_count": 342,
   "id": "ecd95283",
   "metadata": {},
   "outputs": [],
   "source": [
    "tree = parser.parse(bytes(func, 'utf-8'))"
   ]
  },
  {
   "cell_type": "code",
   "execution_count": 81,
   "id": "a0e919af",
   "metadata": {},
   "outputs": [],
   "source": [
    "cursor = tree.walk()"
   ]
  },
  {
   "cell_type": "code",
   "execution_count": 84,
   "id": "62557d1d",
   "metadata": {},
   "outputs": [],
   "source": [
    "cursor.node.parent"
   ]
  },
  {
   "cell_type": "code",
   "execution_count": 78,
   "id": "052d96b6",
   "metadata": {},
   "outputs": [
    {
     "name": "stdout",
     "output_type": "stream",
     "text": [
      "None\n"
     ]
    }
   ],
   "source": [
    "# cursor.goto_first_child()\n",
    "# cursor.goto_parent()\n",
    "# cursor.goto_next_sibling()\n",
    "print(cursor.node.next_sibling.next_sibling.next_sibling.next_sibling)"
   ]
  },
  {
   "cell_type": "code",
   "execution_count": 343,
   "id": "b1db075c",
   "metadata": {},
   "outputs": [],
   "source": [
    "def walk_and_get_variables(tree: Tree):\n",
    "    cursor: TreeCursor = tree.walk()\n",
    "    nodes_order = []\n",
    "    nodes_flat = []\n",
    "    parents = [nodes_order]\n",
    "    while True:\n",
    "        if cursor.node.child_count > 0:\n",
    "            current = [cursor.node]\n",
    "            nodes_flat.append(cursor.node)\n",
    "            parents[-1].append(current)\n",
    "            parents.append(current)\n",
    "            cursor.goto_first_child()\n",
    "        else:\n",
    "            current = [cursor.node, []]\n",
    "            parents[-1].append(current)\n",
    "            \n",
    "            nodes_flat.append(cursor.node)\n",
    "            while cursor.node.next_sibling is None:\n",
    "                if cursor.node.parent is None:\n",
    "                    return nodes_order, nodes_flat\n",
    "                cursor.goto_parent()\n",
    "                parents = parents[:-1]\n",
    "            cursor.goto_next_sibling()\n",
    "            \n",
    "    return nodes_order, nodes_flat"
   ]
  },
  {
   "cell_type": "code",
   "execution_count": 352,
   "id": "65170647",
   "metadata": {},
   "outputs": [
    {
     "data": {
      "text/plain": [
       "[<Node type=program, start_point=(0, 4), end_point=(50, 0)>,\n",
       " <Node type=local_variable_declaration, start_point=(0, 4), end_point=(0, 25)>,\n",
       " <Node type=modifiers, start_point=(0, 4), end_point=(0, 10)>,\n",
       " <Node type=\"public\", start_point=(0, 4), end_point=(0, 10)>,\n",
       " <Node type=type_identifier, start_point=(0, 11), end_point=(0, 17)>,\n",
       " <Node type=variable_declarator, start_point=(0, 18), end_point=(0, 25)>,\n",
       " <Node type=identifier, start_point=(0, 18), end_point=(0, 25)>,\n",
       " <Node type=\";\", start_point=(0, 25), end_point=(0, 25)>,\n",
       " <Node type=ERROR, start_point=(0, 25), end_point=(0, 91)>,\n",
       " <Node type=formal_parameters, start_point=(0, 25), end_point=(0, 91)>,\n",
       " <Node type=\"(\", start_point=(0, 25), end_point=(0, 26)>,\n",
       " <Node type=formal_parameter, start_point=(0, 26), end_point=(0, 47)>,\n",
       " <Node type=modifiers, start_point=(0, 26), end_point=(0, 31)>,\n",
       " <Node type=\"final\", start_point=(0, 26), end_point=(0, 31)>,\n",
       " <Node type=array_type, start_point=(0, 32), end_point=(0, 38)>,\n",
       " <Node type=integral_type, start_point=(0, 32), end_point=(0, 36)>,\n",
       " <Node type=\"char\", start_point=(0, 32), end_point=(0, 36)>,\n",
       " <Node type=dimensions, start_point=(0, 36), end_point=(0, 38)>,\n",
       " <Node type=\"[\", start_point=(0, 36), end_point=(0, 37)>,\n",
       " <Node type=\"]\", start_point=(0, 37), end_point=(0, 38)>,\n",
       " <Node type=identifier, start_point=(0, 39), end_point=(0, 47)>,\n",
       " <Node type=\",\", start_point=(0, 47), end_point=(0, 48)>,\n",
       " <Node type=formal_parameter, start_point=(0, 49), end_point=(0, 71)>,\n",
       " <Node type=modifiers, start_point=(0, 49), end_point=(0, 54)>,\n",
       " <Node type=\"final\", start_point=(0, 49), end_point=(0, 54)>,\n",
       " <Node type=type_identifier, start_point=(0, 55), end_point=(0, 61)>,\n",
       " <Node type=identifier, start_point=(0, 62), end_point=(0, 71)>,\n",
       " <Node type=\",\", start_point=(0, 71), end_point=(0, 72)>,\n",
       " <Node type=formal_parameter, start_point=(0, 73), end_point=(0, 90)>,\n",
       " <Node type=modifiers, start_point=(0, 73), end_point=(0, 78)>,\n",
       " <Node type=\"final\", start_point=(0, 73), end_point=(0, 78)>,\n",
       " <Node type=array_type, start_point=(0, 79), end_point=(0, 85)>,\n",
       " <Node type=integral_type, start_point=(0, 79), end_point=(0, 83)>,\n",
       " <Node type=\"byte\", start_point=(0, 79), end_point=(0, 83)>,\n",
       " <Node type=dimensions, start_point=(0, 83), end_point=(0, 85)>,\n",
       " <Node type=\"[\", start_point=(0, 83), end_point=(0, 84)>,\n",
       " <Node type=\"]\", start_point=(0, 84), end_point=(0, 85)>,\n",
       " <Node type=identifier, start_point=(0, 86), end_point=(0, 90)>,\n",
       " <Node type=\")\", start_point=(0, 90), end_point=(0, 91)>,\n",
       " <Node type=block, start_point=(0, 92), end_point=(49, 5)>,\n",
       " <Node type=\"{\", start_point=(0, 92), end_point=(0, 93)>,\n",
       " <Node type=local_variable_declaration, start_point=(1, 8), end_point=(1, 55)>,\n",
       " <Node type=modifiers, start_point=(1, 8), end_point=(1, 13)>,\n",
       " <Node type=\"final\", start_point=(1, 8), end_point=(1, 13)>,\n",
       " <Node type=type_identifier, start_point=(1, 14), end_point=(1, 26)>,\n",
       " <Node type=variable_declarator, start_point=(1, 27), end_point=(1, 54)>,\n",
       " <Node type=identifier, start_point=(1, 27), end_point=(1, 33)>,\n",
       " <Node type=\"=\", start_point=(1, 34), end_point=(1, 35)>,\n",
       " <Node type=object_creation_expression, start_point=(1, 36), end_point=(1, 54)>,\n",
       " <Node type=\"new\", start_point=(1, 36), end_point=(1, 39)>,\n",
       " <Node type=type_identifier, start_point=(1, 40), end_point=(1, 52)>,\n",
       " <Node type=argument_list, start_point=(1, 52), end_point=(1, 54)>,\n",
       " <Node type=\"(\", start_point=(1, 52), end_point=(1, 53)>,\n",
       " <Node type=\")\", start_point=(1, 53), end_point=(1, 54)>,\n",
       " <Node type=\";\", start_point=(1, 54), end_point=(1, 55)>,\n",
       " <Node type=local_variable_declaration, start_point=(2, 8), end_point=(2, 36)>,\n",
       " <Node type=type_identifier, start_point=(2, 8), end_point=(2, 21)>,\n",
       " <Node type=variable_declarator, start_point=(2, 22), end_point=(2, 35)>,\n",
       " <Node type=identifier, start_point=(2, 22), end_point=(2, 28)>,\n",
       " <Node type=\"=\", start_point=(2, 29), end_point=(2, 30)>,\n",
       " <Node type=null_literal, start_point=(2, 31), end_point=(2, 35)>,\n",
       " <Node type=\";\", start_point=(2, 35), end_point=(2, 36)>,\n",
       " <Node type=local_variable_declaration, start_point=(3, 8), end_point=(3, 21)>,\n",
       " <Node type=integral_type, start_point=(3, 8), end_point=(3, 11)>,\n",
       " <Node type=\"int\", start_point=(3, 8), end_point=(3, 11)>,\n",
       " <Node type=variable_declarator, start_point=(3, 12), end_point=(3, 20)>,\n",
       " <Node type=identifier, start_point=(3, 12), end_point=(3, 16)>,\n",
       " <Node type=\"=\", start_point=(3, 17), end_point=(3, 18)>,\n",
       " <Node type=decimal_integer_literal, start_point=(3, 19), end_point=(3, 20)>,\n",
       " <Node type=\";\", start_point=(3, 20), end_point=(3, 21)>,\n",
       " <Node type=if_statement, start_point=(4, 8), end_point=(30, 9)>,\n",
       " <Node type=\"if\", start_point=(4, 8), end_point=(4, 10)>,\n",
       " <Node type=condition, start_point=(4, 11), end_point=(4, 84)>,\n",
       " <Node type=\"(\", start_point=(4, 11), end_point=(4, 12)>,\n",
       " <Node type=binary_expression, start_point=(4, 12), end_point=(4, 83)>,\n",
       " <Node type=method_invocation, start_point=(4, 12), end_point=(4, 45)>,\n",
       " <Node type=string_literal, start_point=(4, 12), end_point=(4, 17)>,\n",
       " <Node type=\"\"\", start_point=(4, 12), end_point=(4, 13)>,\n",
       " <Node type=string_fragment, start_point=(4, 13), end_point=(4, 16)>,\n",
       " <Node type=\"\"\", start_point=(4, 16), end_point=(4, 17)>,\n",
       " <Node type=\".\", start_point=(4, 17), end_point=(4, 18)>,\n",
       " <Node type=identifier, start_point=(4, 18), end_point=(4, 34)>,\n",
       " <Node type=argument_list, start_point=(4, 34), end_point=(4, 45)>,\n",
       " <Node type=\"(\", start_point=(4, 34), end_point=(4, 35)>,\n",
       " <Node type=identifier, start_point=(4, 35), end_point=(4, 44)>,\n",
       " <Node type=\")\", start_point=(4, 44), end_point=(4, 45)>,\n",
       " <Node type=\"||\", start_point=(4, 46), end_point=(4, 48)>,\n",
       " <Node type=method_invocation, start_point=(4, 49), end_point=(4, 83)>,\n",
       " <Node type=string_literal, start_point=(4, 49), end_point=(4, 55)>,\n",
       " <Node type=\"\"\", start_point=(4, 49), end_point=(4, 50)>,\n",
       " <Node type=string_fragment, start_point=(4, 50), end_point=(4, 54)>,\n",
       " <Node type=\"\"\", start_point=(4, 54), end_point=(4, 55)>,\n",
       " <Node type=\".\", start_point=(4, 55), end_point=(4, 56)>,\n",
       " <Node type=identifier, start_point=(4, 56), end_point=(4, 72)>,\n",
       " <Node type=argument_list, start_point=(4, 72), end_point=(4, 83)>,\n",
       " <Node type=\"(\", start_point=(4, 72), end_point=(4, 73)>,\n",
       " <Node type=identifier, start_point=(4, 73), end_point=(4, 82)>,\n",
       " <Node type=\")\", start_point=(4, 82), end_point=(4, 83)>,\n",
       " <Node type=\")\", start_point=(4, 83), end_point=(4, 84)>,\n",
       " <Node type=block, start_point=(4, 85), end_point=(16, 9)>,\n",
       " <Node type=\"{\", start_point=(4, 85), end_point=(4, 86)>,\n",
       " <Node type=expression_statement, start_point=(5, 12), end_point=(5, 22)>,\n",
       " <Node type=assignment_expression, start_point=(5, 12), end_point=(5, 21)>,\n",
       " <Node type=identifier, start_point=(5, 12), end_point=(5, 16)>,\n",
       " <Node type=\"=\", start_point=(5, 17), end_point=(5, 18)>,\n",
       " <Node type=decimal_integer_literal, start_point=(5, 19), end_point=(5, 21)>,\n",
       " <Node type=\";\", start_point=(5, 21), end_point=(5, 22)>,\n",
       " <Node type=if_statement, start_point=(6, 12), end_point=(10, 13)>,\n",
       " <Node type=\"if\", start_point=(6, 12), end_point=(6, 14)>,\n",
       " <Node type=condition, start_point=(6, 15), end_point=(6, 52)>,\n",
       " <Node type=\"(\", start_point=(6, 15), end_point=(6, 16)>,\n",
       " <Node type=binary_expression, start_point=(6, 16), end_point=(6, 51)>,\n",
       " <Node type=parenthesized_expression, start_point=(6, 16), end_point=(6, 30)>,\n",
       " <Node type=\"(\", start_point=(6, 16), end_point=(6, 17)>,\n",
       " <Node type=binary_expression, start_point=(6, 17), end_point=(6, 29)>,\n",
       " <Node type=identifier, start_point=(6, 17), end_point=(6, 21)>,\n",
       " <Node type=\"!=\", start_point=(6, 22), end_point=(6, 24)>,\n",
       " <Node type=null_literal, start_point=(6, 25), end_point=(6, 29)>,\n",
       " <Node type=\")\", start_point=(6, 29), end_point=(6, 30)>,\n",
       " <Node type=\"&&\", start_point=(6, 31), end_point=(6, 33)>,\n",
       " <Node type=parenthesized_expression, start_point=(6, 34), end_point=(6, 51)>,\n",
       " <Node type=\"(\", start_point=(6, 34), end_point=(6, 35)>,\n",
       " <Node type=binary_expression, start_point=(6, 35), end_point=(6, 50)>,\n",
       " <Node type=field_access, start_point=(6, 35), end_point=(6, 46)>,\n",
       " <Node type=identifier, start_point=(6, 35), end_point=(6, 39)>,\n",
       " <Node type=\".\", start_point=(6, 39), end_point=(6, 40)>,\n",
       " <Node type=identifier, start_point=(6, 40), end_point=(6, 46)>,\n",
       " <Node type=\">\", start_point=(6, 47), end_point=(6, 48)>,\n",
       " <Node type=decimal_integer_literal, start_point=(6, 49), end_point=(6, 50)>,\n",
       " <Node type=\")\", start_point=(6, 50), end_point=(6, 51)>,\n",
       " <Node type=\")\", start_point=(6, 51), end_point=(6, 52)>,\n",
       " <Node type=block, start_point=(6, 53), end_point=(8, 13)>,\n",
       " <Node type=\"{\", start_point=(6, 53), end_point=(6, 54)>,\n",
       " <Node type=expression_statement, start_point=(7, 16), end_point=(7, 40)>,\n",
       " <Node type=method_invocation, start_point=(7, 16), end_point=(7, 39)>,\n",
       " <Node type=identifier, start_point=(7, 16), end_point=(7, 22)>,\n",
       " <Node type=\".\", start_point=(7, 22), end_point=(7, 23)>,\n",
       " <Node type=identifier, start_point=(7, 23), end_point=(7, 29)>,\n",
       " <Node type=argument_list, start_point=(7, 29), end_point=(7, 39)>,\n",
       " <Node type=\"(\", start_point=(7, 29), end_point=(7, 30)>,\n",
       " <Node type=string_literal, start_point=(7, 30), end_point=(7, 38)>,\n",
       " <Node type=\"\"\", start_point=(7, 30), end_point=(7, 31)>,\n",
       " <Node type=string_fragment, start_point=(7, 31), end_point=(7, 37)>,\n",
       " <Node type=\"\"\", start_point=(7, 37), end_point=(7, 38)>,\n",
       " <Node type=\")\", start_point=(7, 38), end_point=(7, 39)>,\n",
       " <Node type=\";\", start_point=(7, 39), end_point=(7, 40)>,\n",
       " <Node type=\"}\", start_point=(8, 12), end_point=(8, 13)>,\n",
       " <Node type=\"else\", start_point=(8, 14), end_point=(8, 18)>,\n",
       " <Node type=block, start_point=(8, 19), end_point=(10, 13)>,\n",
       " <Node type=\"{\", start_point=(8, 19), end_point=(8, 20)>,\n",
       " <Node type=expression_statement, start_point=(9, 16), end_point=(9, 39)>,\n",
       " <Node type=method_invocation, start_point=(9, 16), end_point=(9, 38)>,\n",
       " <Node type=identifier, start_point=(9, 16), end_point=(9, 22)>,\n",
       " <Node type=\".\", start_point=(9, 22), end_point=(9, 23)>,\n",
       " <Node type=identifier, start_point=(9, 23), end_point=(9, 29)>,\n",
       " <Node type=argument_list, start_point=(9, 29), end_point=(9, 38)>,\n",
       " <Node type=\"(\", start_point=(9, 29), end_point=(9, 30)>,\n",
       " <Node type=string_literal, start_point=(9, 30), end_point=(9, 37)>,\n",
       " <Node type=\"\"\", start_point=(9, 30), end_point=(9, 31)>,\n",
       " <Node type=string_fragment, start_point=(9, 31), end_point=(9, 36)>,\n",
       " <Node type=\"\"\", start_point=(9, 36), end_point=(9, 37)>,\n",
       " <Node type=\")\", start_point=(9, 37), end_point=(9, 38)>,\n",
       " <Node type=\";\", start_point=(9, 38), end_point=(9, 39)>,\n",
       " <Node type=\"}\", start_point=(10, 12), end_point=(10, 13)>,\n",
       " <Node type=try_statement, start_point=(11, 12), end_point=(15, 13)>,\n",
       " <Node type=\"try\", start_point=(11, 12), end_point=(11, 15)>,\n",
       " <Node type=block, start_point=(11, 16), end_point=(13, 13)>,\n",
       " <Node type=\"{\", start_point=(11, 16), end_point=(11, 17)>,\n",
       " <Node type=expression_statement, start_point=(12, 16), end_point=(12, 60)>,\n",
       " <Node type=assignment_expression, start_point=(12, 16), end_point=(12, 59)>,\n",
       " <Node type=identifier, start_point=(12, 16), end_point=(12, 22)>,\n",
       " <Node type=\"=\", start_point=(12, 23), end_point=(12, 24)>,\n",
       " <Node type=method_invocation, start_point=(12, 25), end_point=(12, 59)>,\n",
       " <Node type=identifier, start_point=(12, 25), end_point=(12, 38)>,\n",
       " <Node type=\".\", start_point=(12, 38), end_point=(12, 39)>,\n",
       " <Node type=identifier, start_point=(12, 39), end_point=(12, 50)>,\n",
       " <Node type=argument_list, start_point=(12, 50), end_point=(12, 59)>,\n",
       " <Node type=\"(\", start_point=(12, 50), end_point=(12, 51)>,\n",
       " <Node type=string_literal, start_point=(12, 51), end_point=(12, 58)>,\n",
       " <Node type=\"\"\", start_point=(12, 51), end_point=(12, 52)>,\n",
       " <Node type=string_fragment, start_point=(12, 52), end_point=(12, 57)>,\n",
       " <Node type=\"\"\", start_point=(12, 57), end_point=(12, 58)>,\n",
       " <Node type=\")\", start_point=(12, 58), end_point=(12, 59)>,\n",
       " <Node type=\";\", start_point=(12, 59), end_point=(12, 60)>,\n",
       " <Node type=\"}\", start_point=(13, 12), end_point=(13, 13)>,\n",
       " <Node type=catch_clause, start_point=(13, 14), end_point=(15, 13)>,\n",
       " <Node type=\"catch\", start_point=(13, 14), end_point=(13, 19)>,\n",
       " <Node type=\"(\", start_point=(13, 20), end_point=(13, 21)>,\n",
       " <Node type=catch_formal_parameter, start_point=(13, 21), end_point=(13, 53)>,\n",
       " <Node type=modifiers, start_point=(13, 21), end_point=(13, 26)>,\n",
       " <Node type=\"final\", start_point=(13, 21), end_point=(13, 26)>,\n",
       " <Node type=catch_type, start_point=(13, 27), end_point=(13, 51)>,\n",
       " <Node type=type_identifier, start_point=(13, 27), end_point=(13, 51)>,\n",
       " <Node type=identifier, start_point=(13, 52), end_point=(13, 53)>,\n",
       " <Node type=\")\", start_point=(13, 53), end_point=(13, 54)>,\n",
       " <Node type=block, start_point=(13, 55), end_point=(15, 13)>,\n",
       " <Node type=\"{\", start_point=(13, 55), end_point=(13, 56)>,\n",
       " <Node type=throw_statement, start_point=(14, 16), end_point=(14, 69)>,\n",
       " <Node type=\"throw\", start_point=(14, 16), end_point=(14, 21)>,\n",
       " <Node type=object_creation_expression, start_point=(14, 22), end_point=(14, 68)>,\n",
       " <Node type=\"new\", start_point=(14, 22), end_point=(14, 25)>,\n",
       " <Node type=type_identifier, start_point=(14, 26), end_point=(14, 47)>,\n",
       " <Node type=argument_list, start_point=(14, 47), end_point=(14, 68)>,\n",
       " <Node type=\"(\", start_point=(14, 47), end_point=(14, 48)>,\n",
       " <Node type=string_literal, start_point=(14, 48), end_point=(14, 67)>,\n",
       " <Node type=\"\"\", start_point=(14, 48), end_point=(14, 49)>,\n",
       " <Node type=string_fragment, start_point=(14, 49), end_point=(14, 66)>,\n",
       " <Node type=\"\"\", start_point=(14, 66), end_point=(14, 67)>,\n",
       " <Node type=\")\", start_point=(14, 67), end_point=(14, 68)>,\n",
       " <Node type=\";\", start_point=(14, 68), end_point=(14, 69)>,\n",
       " <Node type=\"}\", start_point=(15, 12), end_point=(15, 13)>,\n",
       " <Node type=\"}\", start_point=(16, 8), end_point=(16, 9)>,\n",
       " <Node type=\"else\", start_point=(16, 10), end_point=(16, 14)>,\n",
       " <Node type=if_statement, start_point=(16, 15), end_point=(30, 9)>,\n",
       " <Node type=\"if\", start_point=(16, 15), end_point=(16, 17)>,\n",
       " <Node type=condition, start_point=(16, 18), end_point=(16, 91)>,\n",
       " <Node type=\"(\", start_point=(16, 18), end_point=(16, 19)>,\n",
       " <Node type=binary_expression, start_point=(16, 19), end_point=(16, 90)>,\n",
       " <Node type=method_invocation, start_point=(16, 19), end_point=(16, 52)>,\n",
       " <Node type=string_literal, start_point=(16, 19), end_point=(16, 24)>,\n",
       " <Node type=\"\"\", start_point=(16, 19), end_point=(16, 20)>,\n",
       " <Node type=string_fragment, start_point=(16, 20), end_point=(16, 23)>,\n",
       " <Node type=\"\"\", start_point=(16, 23), end_point=(16, 24)>,\n",
       " <Node type=\".\", start_point=(16, 24), end_point=(16, 25)>,\n",
       " <Node type=identifier, start_point=(16, 25), end_point=(16, 41)>,\n",
       " <Node type=argument_list, start_point=(16, 41), end_point=(16, 52)>,\n",
       " <Node type=\"(\", start_point=(16, 41), end_point=(16, 42)>,\n",
       " <Node type=identifier, start_point=(16, 42), end_point=(16, 51)>,\n",
       " <Node type=\")\", start_point=(16, 51), end_point=(16, 52)>,\n",
       " <Node type=\"||\", start_point=(16, 53), end_point=(16, 55)>,\n",
       " <Node type=method_invocation, start_point=(16, 56), end_point=(16, 90)>,\n",
       " <Node type=string_literal, start_point=(16, 56), end_point=(16, 62)>,\n",
       " <Node type=\"\"\", start_point=(16, 56), end_point=(16, 57)>,\n",
       " <Node type=string_fragment, start_point=(16, 57), end_point=(16, 61)>,\n",
       " <Node type=\"\"\", start_point=(16, 61), end_point=(16, 62)>,\n",
       " <Node type=\".\", start_point=(16, 62), end_point=(16, 63)>,\n",
       " <Node type=identifier, start_point=(16, 63), end_point=(16, 79)>,\n",
       " <Node type=argument_list, start_point=(16, 79), end_point=(16, 90)>,\n",
       " <Node type=\"(\", start_point=(16, 79), end_point=(16, 80)>,\n",
       " <Node type=identifier, start_point=(16, 80), end_point=(16, 89)>,\n",
       " <Node type=\")\", start_point=(16, 89), end_point=(16, 90)>,\n",
       " <Node type=\")\", start_point=(16, 90), end_point=(16, 91)>,\n",
       " <Node type=block, start_point=(16, 92), end_point=(28, 9)>,\n",
       " <Node type=\"{\", start_point=(16, 92), end_point=(16, 93)>,\n",
       " <Node type=expression_statement, start_point=(17, 12), end_point=(17, 22)>,\n",
       " <Node type=assignment_expression, start_point=(17, 12), end_point=(17, 21)>,\n",
       " <Node type=identifier, start_point=(17, 12), end_point=(17, 16)>,\n",
       " <Node type=\"=\", start_point=(17, 17), end_point=(17, 18)>,\n",
       " <Node type=decimal_integer_literal, start_point=(17, 19), end_point=(17, 21)>,\n",
       " <Node type=\";\", start_point=(17, 21), end_point=(17, 22)>,\n",
       " <Node type=if_statement, start_point=(18, 12), end_point=(22, 13)>,\n",
       " <Node type=\"if\", start_point=(18, 12), end_point=(18, 14)>,\n",
       " <Node type=condition, start_point=(18, 15), end_point=(18, 52)>,\n",
       " <Node type=\"(\", start_point=(18, 15), end_point=(18, 16)>,\n",
       " <Node type=binary_expression, start_point=(18, 16), end_point=(18, 51)>,\n",
       " <Node type=parenthesized_expression, start_point=(18, 16), end_point=(18, 30)>,\n",
       " <Node type=\"(\", start_point=(18, 16), end_point=(18, 17)>,\n",
       " <Node type=binary_expression, start_point=(18, 17), end_point=(18, 29)>,\n",
       " <Node type=identifier, start_point=(18, 17), end_point=(18, 21)>,\n",
       " <Node type=\"!=\", start_point=(18, 22), end_point=(18, 24)>,\n",
       " <Node type=null_literal, start_point=(18, 25), end_point=(18, 29)>,\n",
       " <Node type=\")\", start_point=(18, 29), end_point=(18, 30)>,\n",
       " <Node type=\"&&\", start_point=(18, 31), end_point=(18, 33)>,\n",
       " <Node type=parenthesized_expression, start_point=(18, 34), end_point=(18, 51)>,\n",
       " <Node type=\"(\", start_point=(18, 34), end_point=(18, 35)>,\n",
       " <Node type=binary_expression, start_point=(18, 35), end_point=(18, 50)>,\n",
       " <Node type=field_access, start_point=(18, 35), end_point=(18, 46)>,\n",
       " <Node type=identifier, start_point=(18, 35), end_point=(18, 39)>,\n",
       " <Node type=\".\", start_point=(18, 39), end_point=(18, 40)>,\n",
       " <Node type=identifier, start_point=(18, 40), end_point=(18, 46)>,\n",
       " <Node type=\">\", start_point=(18, 47), end_point=(18, 48)>,\n",
       " <Node type=decimal_integer_literal, start_point=(18, 49), end_point=(18, 50)>,\n",
       " <Node type=\")\", start_point=(18, 50), end_point=(18, 51)>,\n",
       " <Node type=\")\", start_point=(18, 51), end_point=(18, 52)>,\n",
       " <Node type=block, start_point=(18, 53), end_point=(20, 13)>,\n",
       " <Node type=\"{\", start_point=(18, 53), end_point=(18, 54)>,\n",
       " <Node type=expression_statement, start_point=(19, 16), end_point=(19, 40)>,\n",
       " <Node type=method_invocation, start_point=(19, 16), end_point=(19, 39)>,\n",
       " <Node type=identifier, start_point=(19, 16), end_point=(19, 22)>,\n",
       " <Node type=\".\", start_point=(19, 22), end_point=(19, 23)>,\n",
       " <Node type=identifier, start_point=(19, 23), end_point=(19, 29)>,\n",
       " <Node type=argument_list, start_point=(19, 29), end_point=(19, 39)>,\n",
       " <Node type=\"(\", start_point=(19, 29), end_point=(19, 30)>,\n",
       " <Node type=string_literal, start_point=(19, 30), end_point=(19, 38)>,\n",
       " <Node type=\"\"\", start_point=(19, 30), end_point=(19, 31)>,\n",
       " <Node type=string_fragment, start_point=(19, 31), end_point=(19, 37)>,\n",
       " <Node type=\"\"\", start_point=(19, 37), end_point=(19, 38)>,\n",
       " <Node type=\")\", start_point=(19, 38), end_point=(19, 39)>,\n",
       " <Node type=\";\", start_point=(19, 39), end_point=(19, 40)>,\n",
       " <Node type=\"}\", start_point=(20, 12), end_point=(20, 13)>,\n",
       " <Node type=\"else\", start_point=(20, 14), end_point=(20, 18)>,\n",
       " <Node type=block, start_point=(20, 19), end_point=(22, 13)>,\n",
       " <Node type=\"{\", start_point=(20, 19), end_point=(20, 20)>,\n",
       " <Node type=expression_statement, start_point=(21, 16), end_point=(21, 39)>,\n",
       " <Node type=method_invocation, start_point=(21, 16), end_point=(21, 38)>,\n",
       " <Node type=identifier, start_point=(21, 16), end_point=(21, 22)>,\n",
       " <Node type=\".\", start_point=(21, 22), end_point=(21, 23)>,\n",
       " <Node type=identifier, start_point=(21, 23), end_point=(21, 29)>,\n",
       " <Node type=argument_list, start_point=(21, 29), end_point=(21, 38)>,\n",
       " <Node type=\"(\", start_point=(21, 29), end_point=(21, 30)>,\n",
       " <Node type=string_literal, start_point=(21, 30), end_point=(21, 37)>,\n",
       " <Node type=\"\"\", start_point=(21, 30), end_point=(21, 31)>,\n",
       " <Node type=string_fragment, start_point=(21, 31), end_point=(21, 36)>,\n",
       " <Node type=\"\"\", start_point=(21, 36), end_point=(21, 37)>,\n",
       " <Node type=\")\", start_point=(21, 37), end_point=(21, 38)>,\n",
       " <Node type=\";\", start_point=(21, 38), end_point=(21, 39)>,\n",
       " <Node type=\"}\", start_point=(22, 12), end_point=(22, 13)>,\n",
       " <Node type=try_statement, start_point=(23, 12), end_point=(27, 13)>,\n",
       " <Node type=\"try\", start_point=(23, 12), end_point=(23, 15)>,\n",
       " <Node type=block, start_point=(23, 16), end_point=(25, 13)>,\n",
       " <Node type=\"{\", start_point=(23, 16), end_point=(23, 17)>,\n",
       " <Node type=expression_statement, start_point=(24, 16), end_point=(24, 58)>,\n",
       " <Node type=assignment_expression, start_point=(24, 16), end_point=(24, 57)>,\n",
       " <Node type=identifier, start_point=(24, 16), end_point=(24, 22)>,\n",
       " <Node type=\"=\", start_point=(24, 23), end_point=(24, 24)>,\n",
       " <Node type=method_invocation, start_point=(24, 25), end_point=(24, 57)>,\n",
       " <Node type=identifier, start_point=(24, 25), end_point=(24, 38)>,\n",
       " <Node type=\".\", start_point=(24, 38), end_point=(24, 39)>,\n",
       " <Node type=identifier, start_point=(24, 39), end_point=(24, 50)>,\n",
       " <Node type=argument_list, start_point=(24, 50), end_point=(24, 57)>,\n",
       " <Node type=\"(\", start_point=(24, 50), end_point=(24, 51)>,\n",
       " <Node type=string_literal, start_point=(24, 51), end_point=(24, 56)>,\n",
       " <Node type=\"\"\", start_point=(24, 51), end_point=(24, 52)>,\n",
       " <Node type=string_fragment, start_point=(24, 52), end_point=(24, 55)>,\n",
       " <Node type=\"\"\", start_point=(24, 55), end_point=(24, 56)>,\n",
       " <Node type=\")\", start_point=(24, 56), end_point=(24, 57)>,\n",
       " <Node type=\";\", start_point=(24, 57), end_point=(24, 58)>,\n",
       " <Node type=\"}\", start_point=(25, 12), end_point=(25, 13)>,\n",
       " <Node type=catch_clause, start_point=(25, 14), end_point=(27, 13)>,\n",
       " <Node type=\"catch\", start_point=(25, 14), end_point=(25, 19)>,\n",
       " <Node type=\"(\", start_point=(25, 20), end_point=(25, 21)>,\n",
       " <Node type=catch_formal_parameter, start_point=(25, 21), end_point=(25, 53)>,\n",
       " <Node type=modifiers, start_point=(25, 21), end_point=(25, 26)>,\n",
       " <Node type=\"final\", start_point=(25, 21), end_point=(25, 26)>,\n",
       " <Node type=catch_type, start_point=(25, 27), end_point=(25, 51)>,\n",
       " <Node type=type_identifier, start_point=(25, 27), end_point=(25, 51)>,\n",
       " <Node type=identifier, start_point=(25, 52), end_point=(25, 53)>,\n",
       " <Node type=\")\", start_point=(25, 53), end_point=(25, 54)>,\n",
       " <Node type=block, start_point=(25, 55), end_point=(27, 13)>,\n",
       " <Node type=\"{\", start_point=(25, 55), end_point=(25, 56)>,\n",
       " <Node type=throw_statement, start_point=(26, 16), end_point=(26, 69)>,\n",
       " <Node type=\"throw\", start_point=(26, 16), end_point=(26, 21)>,\n",
       " <Node type=object_creation_expression, start_point=(26, 22), end_point=(26, 68)>,\n",
       " <Node type=\"new\", start_point=(26, 22), end_point=(26, 25)>,\n",
       " <Node type=type_identifier, start_point=(26, 26), end_point=(26, 47)>,\n",
       " <Node type=argument_list, start_point=(26, 47), end_point=(26, 68)>,\n",
       " <Node type=\"(\", start_point=(26, 47), end_point=(26, 48)>,\n",
       " <Node type=string_literal, start_point=(26, 48), end_point=(26, 67)>,\n",
       " <Node type=\"\"\", start_point=(26, 48), end_point=(26, 49)>,\n",
       " <Node type=string_fragment, start_point=(26, 49), end_point=(26, 66)>,\n",
       " <Node type=\"\"\", start_point=(26, 66), end_point=(26, 67)>,\n",
       " <Node type=\")\", start_point=(26, 67), end_point=(26, 68)>,\n",
       " <Node type=\";\", start_point=(26, 68), end_point=(26, 69)>,\n",
       " <Node type=\"}\", start_point=(27, 12), end_point=(27, 13)>,\n",
       " <Node type=\"}\", start_point=(28, 8), end_point=(28, 9)>,\n",
       " <Node type=\"else\", start_point=(28, 10), end_point=(28, 14)>,\n",
       " <Node type=block, start_point=(28, 15), end_point=(30, 9)>,\n",
       " <Node type=\"{\", start_point=(28, 15), end_point=(28, 16)>,\n",
       " <Node type=throw_statement, start_point=(29, 12), end_point=(29, 71)>,\n",
       " <Node type=\"throw\", start_point=(29, 12), end_point=(29, 17)>,\n",
       " <Node type=object_creation_expression, start_point=(29, 18), end_point=(29, 70)>,\n",
       " <Node type=\"new\", start_point=(29, 18), end_point=(29, 21)>,\n",
       " <Node type=type_identifier, start_point=(29, 22), end_point=(29, 51)>,\n",
       " <Node type=argument_list, start_point=(29, 51), end_point=(29, 70)>,\n",
       " <Node type=\"(\", start_point=(29, 51), end_point=(29, 52)>,\n",
       " <Node type=string_literal, start_point=(29, 52), end_point=(29, 69)>,\n",
       " <Node type=\"\"\", start_point=(29, 52), end_point=(29, 53)>,\n",
       " <Node type=string_fragment, start_point=(29, 53), end_point=(29, 68)>,\n",
       " <Node type=\"\"\", start_point=(29, 68), end_point=(29, 69)>,\n",
       " <Node type=\")\", start_point=(29, 69), end_point=(29, 70)>,\n",
       " <Node type=\";\", start_point=(29, 70), end_point=(29, 71)>,\n",
       " <Node type=\"}\", start_point=(30, 8), end_point=(30, 9)>,\n",
       " <Node type=local_variable_declaration, start_point=(31, 8), end_point=(31, 27)>,\n",
       " <Node type=integral_type, start_point=(31, 8), end_point=(31, 11)>,\n",
       " <Node type=\"int\", start_point=(31, 8), end_point=(31, 11)>,\n",
       " <Node type=variable_declarator, start_point=(31, 12), end_point=(31, 26)>,\n",
       " <Node type=identifier, start_point=(31, 12), end_point=(31, 19)>,\n",
       " <Node type=\"=\", start_point=(31, 20), end_point=(31, 21)>,\n",
       " <Node type=identifier, start_point=(31, 22), end_point=(31, 26)>,\n",
       " <Node type=\";\", start_point=(31, 26), end_point=(31, 27)>,\n",
       " <Node type=expression_statement, start_point=(32, 8), end_point=(32, 23)>,\n",
       " <Node type=method_invocation, start_point=(32, 8), end_point=(32, 22)>,\n",
       " <Node type=identifier, start_point=(32, 8), end_point=(32, 14)>,\n",
       " <Node type=\".\", start_point=(32, 14), end_point=(32, 15)>,\n",
       " <Node type=identifier, start_point=(32, 15), end_point=(32, 20)>,\n",
       " <Node type=argument_list, start_point=(32, 20), end_point=(32, 22)>,\n",
       " <Node type=\"(\", start_point=(32, 20), end_point=(32, 21)>,\n",
       " <Node type=\")\", start_point=(32, 21), end_point=(32, 22)>,\n",
       " <Node type=\";\", start_point=(32, 22), end_point=(32, 23)>,\n",
       " <Node type=try_statement, start_point=(33, 8), end_point=(37, 9)>,\n",
       " <Node type=\"try\", start_point=(33, 8), end_point=(33, 11)>,\n",
       " <Node type=block, start_point=(33, 12), end_point=(35, 9)>,\n",
       " <Node type=\"{\", start_point=(33, 12), end_point=(33, 13)>,\n",
       " <Node type=expression_statement, start_point=(34, 12), end_point=(34, 66)>,\n",
       " <Node type=method_invocation, start_point=(34, 12), end_point=(34, 65)>,\n",
       " <Node type=identifier, start_point=(34, 12), end_point=(34, 18)>,\n",
       " <Node type=\".\", start_point=(34, 18), end_point=(34, 19)>,\n",
       " <Node type=identifier, start_point=(34, 19), end_point=(34, 25)>,\n",
       " <Node type=argument_list, start_point=(34, 25), end_point=(34, 65)>,\n",
       " <Node type=\"(\", start_point=(34, 25), end_point=(34, 26)>,\n",
       " <Node type=method_invocation, start_point=(34, 26), end_point=(34, 64)>,\n",
       " <Node type=object_creation_expression, start_point=(34, 26), end_point=(34, 46)>,\n",
       " <Node type=\"new\", start_point=(34, 26), end_point=(34, 29)>,\n",
       " <Node type=type_identifier, start_point=(34, 30), end_point=(34, 36)>,\n",
       " <Node type=argument_list, start_point=(34, 36), end_point=(34, 46)>,\n",
       " <Node type=\"(\", start_point=(34, 36), end_point=(34, 37)>,\n",
       " <Node type=identifier, start_point=(34, 37), end_point=(34, 45)>,\n",
       " <Node type=\")\", start_point=(34, 45), end_point=(34, 46)>,\n",
       " <Node type=\".\", start_point=(34, 46), end_point=(34, 47)>,\n",
       " <Node type=identifier, start_point=(34, 47), end_point=(34, 55)>,\n",
       " <Node type=argument_list, start_point=(34, 55), end_point=(34, 64)>,\n",
       " <Node type=\"(\", start_point=(34, 55), end_point=(34, 56)>,\n",
       " <Node type=string_literal, start_point=(34, 56), end_point=(34, 63)>,\n",
       " <Node type=\"\"\", start_point=(34, 56), end_point=(34, 57)>,\n",
       " <Node type=string_fragment, start_point=(34, 57), end_point=(34, 62)>,\n",
       " <Node type=\"\"\", start_point=(34, 62), end_point=(34, 63)>,\n",
       " <Node type=\")\", start_point=(34, 63), end_point=(34, 64)>,\n",
       " <Node type=\")\", start_point=(34, 64), end_point=(34, 65)>,\n",
       " <Node type=\";\", start_point=(34, 65), end_point=(34, 66)>,\n",
       " <Node type=\"}\", start_point=(35, 8), end_point=(35, 9)>,\n",
       " <Node type=catch_clause, start_point=(35, 10), end_point=(37, 9)>,\n",
       " <Node type=\"catch\", start_point=(35, 10), end_point=(35, 15)>,\n",
       " <Node type=\"(\", start_point=(35, 16), end_point=(35, 17)>,\n",
       " <Node type=catch_formal_parameter, start_point=(35, 17), end_point=(35, 47)>,\n",
       " <Node type=catch_type, start_point=(35, 17), end_point=(35, 45)>,\n",
       " <Node type=type_identifier, start_point=(35, 17), end_point=(35, 45)>,\n",
       " <Node type=identifier, start_point=(35, 46), end_point=(35, 47)>,\n",
       " <Node type=\")\", start_point=(35, 47), end_point=(35, 48)>,\n",
       " <Node type=block, start_point=(35, 49), end_point=(37, 9)>,\n",
       " <Node type=\"{\", start_point=(35, 49), end_point=(35, 50)>,\n",
       " <Node type=throw_statement, start_point=(36, 12), end_point=(36, 65)>,\n",
       " <Node type=\"throw\", start_point=(36, 12), end_point=(36, 17)>,\n",
       " <Node type=object_creation_expression, start_point=(36, 18), end_point=(36, 64)>,\n",
       " <Node type=\"new\", start_point=(36, 18), end_point=(36, 21)>,\n",
       " <Node type=type_identifier, start_point=(36, 22), end_point=(36, 43)>,\n",
       " <Node type=argument_list, start_point=(36, 43), end_point=(36, 64)>,\n",
       " <Node type=\"(\", start_point=(36, 43), end_point=(36, 44)>,\n",
       " <Node type=string_literal, start_point=(36, 44), end_point=(36, 63)>,\n",
       " <Node type=\"\"\", start_point=(36, 44), end_point=(36, 45)>,\n",
       " <Node type=string_fragment, start_point=(36, 45), end_point=(36, 62)>,\n",
       " <Node type=\"\"\", start_point=(36, 62), end_point=(36, 63)>,\n",
       " <Node type=\")\", start_point=(36, 63), end_point=(36, 64)>,\n",
       " <Node type=\";\", start_point=(36, 64), end_point=(36, 65)>,\n",
       " <Node type=\"}\", start_point=(37, 8), end_point=(37, 9)>,\n",
       " <Node type=if_statement, start_point=(38, 8), end_point=(41, 9)>,\n",
       " <Node type=\"if\", start_point=(38, 8), end_point=(38, 10)>,\n",
       " <Node type=condition, start_point=(38, 11), end_point=(38, 48)>,\n",
       " <Node type=\"(\", start_point=(38, 11), end_point=(38, 12)>,\n",
       " <Node type=binary_expression, start_point=(38, 12), end_point=(38, 47)>,\n",
       " <Node type=parenthesized_expression, start_point=(38, 12), end_point=(38, 26)>,\n",
       " <Node type=\"(\", start_point=(38, 12), end_point=(38, 13)>,\n",
       " <Node type=binary_expression, start_point=(38, 13), end_point=(38, 25)>,\n",
       " <Node type=identifier, start_point=(38, 13), end_point=(38, 17)>,\n",
       " <Node type=\"!=\", start_point=(38, 18), end_point=(38, 20)>,\n",
       " <Node type=null_literal, start_point=(38, 21), end_point=(38, 25)>,\n",
       " <Node type=\")\", start_point=(38, 25), end_point=(38, 26)>,\n",
       " <Node type=\"&&\", start_point=(38, 27), end_point=(38, 29)>,\n",
       " <Node type=parenthesized_expression, start_point=(38, 30), end_point=(38, 47)>,\n",
       " <Node type=\"(\", start_point=(38, 30), end_point=(38, 31)>,\n",
       " <Node type=binary_expression, start_point=(38, 31), end_point=(38, 46)>,\n",
       " <Node type=field_access, start_point=(38, 31), end_point=(38, 42)>,\n",
       " <Node type=identifier, start_point=(38, 31), end_point=(38, 35)>,\n",
       " <Node type=\".\", start_point=(38, 35), end_point=(38, 36)>,\n",
       " <Node type=identifier, start_point=(38, 36), end_point=(38, 42)>,\n",
       " <Node type=\">\", start_point=(38, 43), end_point=(38, 44)>,\n",
       " <Node type=decimal_integer_literal, start_point=(38, 45), end_point=(38, 46)>,\n",
       " <Node type=\")\", start_point=(38, 46), end_point=(38, 47)>,\n",
       " <Node type=\")\", start_point=(38, 47), end_point=(38, 48)>,\n",
       " <Node type=block, start_point=(38, 49), end_point=(41, 9)>,\n",
       " <Node type=\"{\", start_point=(38, 49), end_point=(38, 50)>,\n",
       " <Node type=expression_statement, start_point=(39, 12), end_point=(39, 32)>,\n",
       " <Node type=method_invocation, start_point=(39, 12), end_point=(39, 31)>,\n",
       " <Node type=identifier, start_point=(39, 12), end_point=(39, 18)>,\n",
       " <Node type=\".\", start_point=(39, 18), end_point=(39, 19)>,\n",
       " <Node type=identifier, start_point=(39, 19), end_point=(39, 25)>,\n",
       " <Node type=argument_list, start_point=(39, 25), end_point=(39, 31)>,\n",
       " <Node type=\"(\", start_point=(39, 25), end_point=(39, 26)>,\n",
       " <Node type=identifier, start_point=(39, 26), end_point=(39, 30)>,\n",
       " <Node type=\")\", start_point=(39, 30), end_point=(39, 31)>,\n",
       " <Node type=\";\", start_point=(39, 31), end_point=(39, 32)>,\n",
       " <Node type=expression_statement, start_point=(40, 12), end_point=(40, 35)>,\n",
       " <Node type=assignment_expression, start_point=(40, 12), end_point=(40, 34)>,\n",
       " <Node type=identifier, start_point=(40, 12), end_point=(40, 19)>,\n",
       " <Node type=\"+=\", start_point=(40, 20), end_point=(40, 22)>,\n",
       " <Node type=field_access, start_point=(40, 23), end_point=(40, 34)>,\n",
       " <Node type=identifier, start_point=(40, 23), end_point=(40, 27)>,\n",
       " <Node type=\".\", start_point=(40, 27), end_point=(40, 28)>,\n",
       " <Node type=identifier, start_point=(40, 28), end_point=(40, 34)>,\n",
       " <Node type=\";\", start_point=(40, 34), end_point=(40, 35)>,\n",
       " <Node type=\"}\", start_point=(41, 8), end_point=(41, 9)>,\n",
       " <Node type=local_variable_declaration, start_point=(42, 8), end_point=(42, 45)>,\n",
       " <Node type=modifiers, start_point=(42, 8), end_point=(42, 13)>,\n",
       " <Node type=\"final\", start_point=(42, 8), end_point=(42, 13)>,\n",
       " <Node type=array_type, start_point=(42, 14), end_point=(42, 20)>,\n",
       " <Node type=integral_type, start_point=(42, 14), end_point=(42, 18)>,\n",
       " <Node type=\"byte\", start_point=(42, 14), end_point=(42, 18)>,\n",
       " <Node type=dimensions, start_point=(42, 18), end_point=(42, 20)>,\n",
       " <Node type=\"[\", start_point=(42, 18), end_point=(42, 19)>,\n",
       " <Node type=\"]\", start_point=(42, 19), end_point=(42, 20)>,\n",
       " <Node type=variable_declarator, start_point=(42, 21), end_point=(42, 44)>,\n",
       " <Node type=identifier, start_point=(42, 21), end_point=(42, 24)>,\n",
       " <Node type=\"=\", start_point=(42, 25), end_point=(42, 26)>,\n",
       " <Node type=array_creation_expression, start_point=(42, 27), end_point=(42, 44)>,\n",
       " <Node type=\"new\", start_point=(42, 27), end_point=(42, 30)>,\n",
       " <Node type=integral_type, start_point=(42, 31), end_point=(42, 35)>,\n",
       " <Node type=\"byte\", start_point=(42, 31), end_point=(42, 35)>,\n",
       " <Node type=dimensions_expr, start_point=(42, 35), end_point=(42, 44)>,\n",
       " <Node type=\"[\", start_point=(42, 35), end_point=(42, 36)>,\n",
       " <Node type=identifier, start_point=(42, 36), end_point=(42, 43)>,\n",
       " <Node type=\"]\", start_point=(42, 43), end_point=(42, 44)>,\n",
       " <Node type=\";\", start_point=(42, 44), end_point=(42, 45)>,\n",
       " <Node type=expression_statement, start_point=(43, 8), end_point=(43, 59)>,\n",
       " <Node type=method_invocation, start_point=(43, 8), end_point=(43, 58)>,\n",
       " <Node type=identifier, start_point=(43, 8), end_point=(43, 14)>,\n",
       " <Node type=\".\", start_point=(43, 14), end_point=(43, 15)>,\n",
       " <Node type=identifier, start_point=(43, 15), end_point=(43, 24)>,\n",
       " <Node type=argument_list, start_point=(43, 24), end_point=(43, 58)>,\n",
       " <Node type=\"(\", start_point=(43, 24), end_point=(43, 25)>,\n",
       " <Node type=method_invocation, start_point=(43, 25), end_point=(43, 40)>,\n",
       " <Node type=identifier, start_point=(43, 25), end_point=(43, 31)>,\n",
       " <Node type=\".\", start_point=(43, 31), end_point=(43, 32)>,\n",
       " <Node type=identifier, start_point=(43, 32), end_point=(43, 38)>,\n",
       " <Node type=argument_list, start_point=(43, 38), end_point=(43, 40)>,\n",
       " <Node type=\"(\", start_point=(43, 38), end_point=(43, 39)>,\n",
       " <Node type=\")\", start_point=(43, 39), end_point=(43, 40)>,\n",
       " <Node type=\",\", start_point=(43, 40), end_point=(43, 41)>,\n",
       " <Node type=decimal_integer_literal, start_point=(43, 42), end_point=(43, 43)>,\n",
       " <Node type=\",\", start_point=(43, 43), end_point=(43, 44)>,\n",
       " <Node type=identifier, start_point=(43, 45), end_point=(43, 48)>,\n",
       " <Node type=\",\", start_point=(43, 48), end_point=(43, 49)>,\n",
       " <Node type=decimal_integer_literal, start_point=(43, 50), end_point=(43, 51)>,\n",
       " <Node type=\",\", start_point=(43, 51), end_point=(43, 52)>,\n",
       " <Node type=identifier, start_point=(43, 53), end_point=(43, 57)>,\n",
       " <Node type=\")\", start_point=(43, 57), end_point=(43, 58)>,\n",
       " <Node type=\";\", start_point=(43, 58), end_point=(43, 59)>,\n",
       " <Node type=if_statement, start_point=(44, 8), end_point=(46, 9)>,\n",
       " <Node type=\"if\", start_point=(44, 8), end_point=(44, 10)>,\n",
       " <Node type=condition, start_point=(44, 11), end_point=(44, 48)>,\n",
       " <Node type=\"(\", start_point=(44, 11), end_point=(44, 12)>,\n",
       " <Node type=binary_expression, start_point=(44, 12), end_point=(44, 47)>,\n",
       " <Node type=parenthesized_expression, start_point=(44, 12), end_point=(44, 26)>,\n",
       " <Node type=\"(\", start_point=(44, 12), end_point=(44, 13)>,\n",
       " <Node type=binary_expression, start_point=(44, 13), end_point=(44, 25)>,\n",
       " <Node type=identifier, start_point=(44, 13), end_point=(44, 17)>,\n",
       " <Node type=\"!=\", start_point=(44, 18), end_point=(44, 20)>,\n",
       " <Node type=null_literal, start_point=(44, 21), end_point=(44, 25)>,\n",
       " <Node type=\")\", start_point=(44, 25), end_point=(44, 26)>,\n",
       " <Node type=\"&&\", start_point=(44, 27), end_point=(44, 29)>,\n",
       " <Node type=parenthesized_expression, start_point=(44, 30), end_point=(44, 47)>,\n",
       " <Node type=\"(\", start_point=(44, 30), end_point=(44, 31)>,\n",
       " <Node type=binary_expression, start_point=(44, 31), end_point=(44, 46)>,\n",
       " <Node type=field_access, start_point=(44, 31), end_point=(44, 42)>,\n",
       " <Node type=identifier, start_point=(44, 31), end_point=(44, 35)>,\n",
       " <Node type=\".\", start_point=(44, 35), end_point=(44, 36)>,\n",
       " <Node type=identifier, start_point=(44, 36), end_point=(44, 42)>,\n",
       " <Node type=\">\", start_point=(44, 43), end_point=(44, 44)>,\n",
       " <Node type=decimal_integer_literal, start_point=(44, 45), end_point=(44, 46)>,\n",
       " <Node type=\")\", start_point=(44, 46), end_point=(44, 47)>,\n",
       " <Node type=\")\", start_point=(44, 47), end_point=(44, 48)>,\n",
       " <Node type=block, start_point=(44, 49), end_point=(46, 9)>,\n",
       " <Node type=\"{\", start_point=(44, 49), end_point=(44, 50)>,\n",
       " <Node type=expression_statement, start_point=(45, 12), end_point=(45, 62)>,\n",
       " <Node type=method_invocation, start_point=(45, 12), end_point=(45, 61)>,\n",
       " <Node type=identifier, start_point=(45, 12), end_point=(45, 18)>,\n",
       " <Node type=\".\", start_point=(45, 18), end_point=(45, 19)>,\n",
       " <Node type=identifier, start_point=(45, 19), end_point=(45, 28)>,\n",
       " <Node type=argument_list, start_point=(45, 28), end_point=(45, 61)>,\n",
       " <Node type=\"(\", start_point=(45, 28), end_point=(45, 29)>,\n",
       " <Node type=identifier, start_point=(45, 29), end_point=(45, 33)>,\n",
       " <Node type=\",\", start_point=(45, 33), end_point=(45, 34)>,\n",
       " <Node type=decimal_integer_literal, start_point=(45, 35), end_point=(45, 36)>,\n",
       " <Node type=\",\", start_point=(45, 36), end_point=(45, 37)>,\n",
       " <Node type=identifier, start_point=(45, 38), end_point=(45, 41)>,\n",
       " <Node type=\",\", start_point=(45, 41), end_point=(45, 42)>,\n",
       " <Node type=identifier, start_point=(45, 43), end_point=(45, 47)>,\n",
       " <Node type=\",\", start_point=(45, 47), end_point=(45, 48)>,\n",
       " <Node type=field_access, start_point=(45, 49), end_point=(45, 60)>,\n",
       " <Node type=identifier, start_point=(45, 49), end_point=(45, 53)>,\n",
       " <Node type=\".\", start_point=(45, 53), end_point=(45, 54)>,\n",
       " <Node type=identifier, start_point=(45, 54), end_point=(45, 60)>,\n",
       " <Node type=\")\", start_point=(45, 60), end_point=(45, 61)>,\n",
       " <Node type=\";\", start_point=(45, 61), end_point=(45, 62)>,\n",
       " <Node type=\"}\", start_point=(46, 8), end_point=(46, 9)>,\n",
       " <Node type=expression_statement, start_point=(47, 8), end_point=(47, 60)>,\n",
       " <Node type=method_invocation, start_point=(47, 8), end_point=(47, 59)>,\n",
       " <Node type=identifier, start_point=(47, 8), end_point=(47, 14)>,\n",
       " <Node type=\".\", start_point=(47, 14), end_point=(47, 15)>,\n",
       " <Node type=identifier, start_point=(47, 15), end_point=(47, 21)>,\n",
       " <Node type=argument_list, start_point=(47, 21), end_point=(47, 59)>,\n",
       " <Node type=\"(\", start_point=(47, 21), end_point=(47, 22)>,\n",
       " <Node type=object_creation_expression, start_point=(47, 22), end_point=(47, 58)>,\n",
       " <Node type=\"new\", start_point=(47, 22), end_point=(47, 25)>,\n",
       " <Node type=type_identifier, start_point=(47, 26), end_point=(47, 32)>,\n",
       " <Node type=argument_list, start_point=(47, 32), end_point=(47, 58)>,\n",
       " <Node type=\"(\", start_point=(47, 32), end_point=(47, 33)>,\n",
       " <Node type=method_invocation, start_point=(47, 33), end_point=(47, 57)>,\n",
       " <Node type=identifier, start_point=(47, 33), end_point=(47, 39)>,\n",
       " <Node type=\".\", start_point=(47, 39), end_point=(47, 40)>,\n",
       " <Node type=identifier, start_point=(47, 40), end_point=(47, 52)>,\n",
       " <Node type=argument_list, start_point=(47, 52), end_point=(47, 57)>,\n",
       " <Node type=\"(\", start_point=(47, 52), end_point=(47, 53)>,\n",
       " <Node type=identifier, start_point=(47, 53), end_point=(47, 56)>,\n",
       " <Node type=\")\", start_point=(47, 56), end_point=(47, 57)>,\n",
       " <Node type=\")\", start_point=(47, 57), end_point=(47, 58)>,\n",
       " <Node type=\")\", start_point=(47, 58), end_point=(47, 59)>,\n",
       " <Node type=\";\", start_point=(47, 59), end_point=(47, 60)>,\n",
       " <Node type=return_statement, start_point=(48, 8), end_point=(48, 33)>,\n",
       " <Node type=\"return\", start_point=(48, 8), end_point=(48, 14)>,\n",
       " <Node type=method_invocation, start_point=(48, 15), end_point=(48, 32)>,\n",
       " <Node type=identifier, start_point=(48, 15), end_point=(48, 21)>,\n",
       " <Node type=\".\", start_point=(48, 21), end_point=(48, 22)>,\n",
       " <Node type=identifier, start_point=(48, 22), end_point=(48, 30)>,\n",
       " <Node type=argument_list, start_point=(48, 30), end_point=(48, 32)>,\n",
       " <Node type=\"(\", start_point=(48, 30), end_point=(48, 31)>,\n",
       " <Node type=\")\", start_point=(48, 31), end_point=(48, 32)>,\n",
       " <Node type=\";\", start_point=(48, 32), end_point=(48, 33)>,\n",
       " <Node type=\"}\", start_point=(49, 4), end_point=(49, 5)>]"
      ]
     },
     "execution_count": 352,
     "metadata": {},
     "output_type": "execute_result"
    }
   ],
   "source": [
    "nodes_tree, nodes_flat = walk_and_get_variables(tree)\n",
    "nodes_flat"
   ]
  },
  {
   "cell_type": "code",
   "execution_count": 362,
   "id": "d95c32d5",
   "metadata": {},
   "outputs": [],
   "source": [
    "TYPE_IDENTIFIER = \"type_identifier\"\n",
    "ARRAY_TYPE = \"integral_type\"\n",
    "IDENTIFIER = \"identifier\"\n",
    "FUNC = \"method_invocation\"\n",
    "ARGS = \"argument_list\"\n",
    "VAR_DECLARE = \"variable_declarator\"\n",
    "STR = \"string_fragment\"\n",
    "\n",
    "def type_getter(nodes_flat):\n",
    "    return [node for node in nodes_flat if (node.type == TYPE_IDENTIFIER) or (node.type == ARRAY_TYPE)]\n",
    "\n",
    "def func_getter(nodes_flat):\n",
    "    return [node for node in nodes_flat if \n",
    "            (node.type == IDENTIFIER) and ((\n",
    "                (node.parent.type == FUNC) and (node.next_sibling.type == ARGS)\n",
    "            ) or (\n",
    "                (node.parent.type == VAR_DECLARE) and (node.next_sibling is None)\n",
    "            ))]\n",
    "\n",
    "def var_getter(nodes_flat):\n",
    "    return [node for node in nodes_flat if \n",
    "            (node.type == IDENTIFIER) and not ((\n",
    "                (node.parent.type == FUNC) and (node.next_sibling.type == ARGS)\n",
    "            ) or (\n",
    "                (node.parent.type == VAR_DECLARE) and (node.next_sibling is None)\n",
    "            ))]\n",
    "\n",
    "def str_getter(nodes_flat):\n",
    "    return [node for node in nodes_flat if (node.type == STR)]\n",
    "\n",
    "def replace_anything(code_fragment, nodes_getter, prefix, debug=False):\n",
    "    tree = parser.parse(bytes(code_fragment, 'utf-8'))\n",
    "    nodes_tree, nodes_flat = walk_and_get_variables(tree)\n",
    "    \n",
    "    nodes = nodes_getter(nodes_flat)\n",
    "    if debug:\n",
    "        print('\\n'.join([str(node) + bytes.decode(node.text) for node in nodes]))\n",
    "        print('\\n')\n",
    "    \n",
    "    i = 0\n",
    "    mapper = {}\n",
    "    for node in nodes:\n",
    "        if node.text in mapper:\n",
    "            continue\n",
    "        mapper[node.text] = f\"{prefix}_{i}\"\n",
    "        i += 1\n",
    "        \n",
    "    shift = 0   \n",
    "    \n",
    "    for node in nodes:\n",
    "        start = node.start_byte + shift\n",
    "        end = node.end_byte + shift\n",
    "            \n",
    "        code_fragment = code_fragment[:start] + mapper[node.text] + code_fragment[end:]\n",
    "        \n",
    "        shift += len(mapper[node.text]) - len(node.text)\n",
    "        \n",
    "    return code_fragment\n",
    "\n",
    "def replace_types(code_fragment, debug=False):\n",
    "    return replace_anything(code_fragment, type_getter, \"TYPE\", debug)\n",
    "\n",
    "def replace_funcs(code_fragment, debug=False):\n",
    "    return replace_anything(code_fragment, func_getter, \"FUNC\", debug)\n",
    "\n",
    "def replace_vars(code_fragment, debug=False):\n",
    "    return replace_anything(code_fragment, var_getter, \"VAR\", debug)\n",
    "\n",
    "def replace_strs(code_fragment, debug=False):\n",
    "    return replace_anything(code_fragment, str_getter, \"ANY_TEXT\", debug)\n",
    "\n",
    "def replace(code_fragment, debug=False):\n",
    "    code_fragment = replace_types(code_fragment, debug)\n",
    "    code_fragment = replace_funcs(code_fragment, debug)\n",
    "    code_fragment = replace_vars(code_fragment, debug)\n",
    "    code_fragment = replace_strs(code_fragment, debug)\n",
    "    return code_fragment"
   ]
  },
  {
   "cell_type": "code",
   "execution_count": 363,
   "id": "c348fc13",
   "metadata": {
    "scrolled": true
   },
   "outputs": [
    {
     "name": "stdout",
     "output_type": "stream",
     "text": [
      "    public String encrypt(final char[] password, final String algorithm, final byte[] salt) {\n",
      "        final StringBuffer buffer = new StringBuffer();\n",
      "        MessageDigest digest = null;\n",
      "        int size = 0;\n",
      "        if (\"SHA\".equalsIgnoreCase(algorithm) || \"SSHA\".equalsIgnoreCase(algorithm)) {\n",
      "            size = 20;\n",
      "            if ((salt != null) && (salt.length > 0)) {\n",
      "                buffer.append(\"{SSHA}\");\n",
      "            } else {\n",
      "                buffer.append(\"{SHA}\");\n",
      "            }\n",
      "            try {\n",
      "                digest = MessageDigest.getInstance(\"SHA-1\");\n",
      "            } catch (final NoSuchAlgorithmException e) {\n",
      "                throw new IllegalStateException(\"Invalid algorithm\");\n",
      "            }\n",
      "        } else if (\"MD5\".equalsIgnoreCase(algorithm) || \"SMD5\".equalsIgnoreCase(algorithm)) {\n",
      "            size = 16;\n",
      "            if ((salt != null) && (salt.length > 0)) {\n",
      "                buffer.append(\"{SMD5}\");\n",
      "            } else {\n",
      "                buffer.append(\"{MD5}\");\n",
      "            }\n",
      "            try {\n",
      "                digest = MessageDigest.getInstance(\"MD5\");\n",
      "            } catch (final NoSuchAlgorithmException e) {\n",
      "                throw new IllegalStateException(\"Invalid algorithm\");\n",
      "            }\n",
      "        } else {\n",
      "            throw new UnsupportedOperationException(\"Not implemented\");\n",
      "        }\n",
      "        int outSize = size;\n",
      "        digest.reset();\n",
      "        try {\n",
      "            digest.update(new String(password).getBytes(\"UTF-8\"));\n",
      "        } catch (UnsupportedEncodingException e) {\n",
      "            throw new IllegalStateException(\"UTF-8 Unsupported\");\n",
      "        }\n",
      "        if ((salt != null) && (salt.length > 0)) {\n",
      "            digest.update(salt);\n",
      "            outSize += salt.length;\n",
      "        }\n",
      "        final byte[] out = new byte[outSize];\n",
      "        System.arraycopy(digest.digest(), 0, out, 0, size);\n",
      "        if ((salt != null) && (salt.length > 0)) {\n",
      "            System.arraycopy(salt, 0, out, size, salt.length);\n",
      "        }\n",
      "        buffer.append(new String(Base64.encodeBase64(out)));\n",
      "        return buffer.toString();\n",
      "    }\n",
      "\n"
     ]
    }
   ],
   "source": [
    "print(func)"
   ]
  },
  {
   "cell_type": "code",
   "execution_count": 364,
   "id": "0c25df5c",
   "metadata": {},
   "outputs": [
    {
     "name": "stdout",
     "output_type": "stream",
     "text": [
      "    public TYPE_0 FUNC_0(final TYPE_1[] VAR_0, final TYPE_0 VAR_1, final TYPE_2[] VAR_2) {\n",
      "        final TYPE_3 VAR_3 = new TYPE_3();\n",
      "        TYPE_4 VAR_4 = null;\n",
      "        TYPE_5 VAR_5 = 0;\n",
      "        if (\"ANY_TEXT_0\".FUNC_1(VAR_1) || \"ANY_TEXT_1\".FUNC_1(VAR_1)) {\n",
      "            VAR_5 = 20;\n",
      "            if ((VAR_2 != null) && (VAR_2.VAR_6 > 0)) {\n",
      "                VAR_3.FUNC_2(\"ANY_TEXT_2\");\n",
      "            } else {\n",
      "                VAR_3.FUNC_2(\"ANY_TEXT_3\");\n",
      "            }\n",
      "            try {\n",
      "                VAR_4 = VAR_7.FUNC_3(\"ANY_TEXT_4\");\n",
      "            } catch (final TYPE_6 VAR_8) {\n",
      "                throw new TYPE_7(\"ANY_TEXT_5\");\n",
      "            }\n",
      "        } else if (\"ANY_TEXT_6\".FUNC_1(VAR_1) || \"ANY_TEXT_7\".FUNC_1(VAR_1)) {\n",
      "            VAR_5 = 16;\n",
      "            if ((VAR_2 != null) && (VAR_2.VAR_6 > 0)) {\n",
      "                VAR_3.FUNC_2(\"ANY_TEXT_8\");\n",
      "            } else {\n",
      "                VAR_3.FUNC_2(\"ANY_TEXT_9\");\n",
      "            }\n",
      "            try {\n",
      "                VAR_4 = VAR_7.FUNC_3(\"ANY_TEXT_6\");\n",
      "            } catch (final TYPE_6 VAR_8) {\n",
      "                throw new TYPE_7(\"ANY_TEXT_5\");\n",
      "            }\n",
      "        } else {\n",
      "            throw new TYPE_8(\"ANY_TEXT_10\");\n",
      "        }\n",
      "        TYPE_5 VAR_9 = FUNC_4;\n",
      "        VAR_4.FUNC_5();\n",
      "        try {\n",
      "            VAR_4.FUNC_6(new TYPE_0(VAR_0).FUNC_7(\"ANY_TEXT_11\"));\n",
      "        } catch (TYPE_9 VAR_8) {\n",
      "            throw new TYPE_7(\"ANY_TEXT_12\");\n",
      "        }\n",
      "        if ((VAR_2 != null) && (VAR_2.VAR_6 > 0)) {\n",
      "            VAR_4.FUNC_6(VAR_2);\n",
      "            VAR_9 += VAR_2.VAR_6;\n",
      "        }\n",
      "        final TYPE_2[] VAR_10 = new TYPE_2[VAR_9];\n",
      "        VAR_11.FUNC_8(VAR_4.FUNC_9(), 0, VAR_10, 0, VAR_5);\n",
      "        if ((VAR_2 != null) && (VAR_2.VAR_6 > 0)) {\n",
      "            VAR_11.FUNC_8(VAR_2, 0, VAR_10, VAR_5, VAR_2.VAR_6);\n",
      "        }\n",
      "        VAR_3.FUNC_2(new TYPE_0(VAR_12.FUNC_10(VAR_10)));\n",
      "        return VAR_3.FUNC_11();\n",
      "    }\n",
      "\n"
     ]
    }
   ],
   "source": [
    "func1 = replace(func, debug=False)\n",
    "print(func1)"
   ]
  },
  {
   "cell_type": "code",
   "execution_count": 329,
   "id": "c2816d2c",
   "metadata": {},
   "outputs": [
    {
     "data": {
      "text/plain": [
       "[['variable_declarator', b'sendCouchRequest', None, b''],\n",
       " ['formal_parameter', b'request', None, b')'],\n",
       " ['variable_declarator', b'httpResponse', '=', b';'],\n",
       " ['method_invocation', b'execute', 'argument_list', None],\n",
       " ['argument_list', b'request', ')', None],\n",
       " ['variable_declarator', b'entity', '=', b';'],\n",
       " ['method_invocation', b'httpResponse', '.', None],\n",
       " ['method_invocation', b'getEntity', 'argument_list', None],\n",
       " ['binary_expression', b'entity', '!=', b')'],\n",
       " ['variable_declarator', b'instream', '=', b';'],\n",
       " ['method_invocation', b'entity', '.', None],\n",
       " ['method_invocation', b'getContent', 'argument_list', None],\n",
       " ['variable_declarator', b'resultString', '=', b';'],\n",
       " ['method_invocation', b'convertStreamToString', 'argument_list', None],\n",
       " ['argument_list', b'instream', ')', None],\n",
       " ['method_invocation', b'instream', '.', b';'],\n",
       " ['method_invocation', b'close', 'argument_list', b';'],\n",
       " ['variable_declarator', b'jsonResult', '=', b';'],\n",
       " ['argument_list', b'resultString', ')', None],\n",
       " ['return_statement', b'jsonResult', ';', b'}'],\n",
       " ['catch_formal_parameter', b'e', None, b')'],\n",
       " ['method_invocation', b'e', '.', b';'],\n",
       " ['method_invocation', b'printStackTrace', 'argument_list', b';']]"
      ]
     },
     "execution_count": 329,
     "metadata": {},
     "output_type": "execute_result"
    }
   ],
   "source": [
    "[[\n",
    "    node.parent.type, \n",
    "    node.text, \n",
    "    None if not node.next_sibling else node.next_sibling.type,\n",
    "    None if not node.parent.next_sibling else node.parent.next_sibling.text\n",
    "] for node in var_getter(nodes_flat)]"
   ]
  },
  {
   "cell_type": "code",
   "execution_count": 330,
   "id": "10b0fc80",
   "metadata": {},
   "outputs": [
    {
     "data": {
      "text/plain": [
       "[<Node type=program, start_point=(0, 4), end_point=(16, 0)>,\n",
       " <Node type=local_variable_declaration, start_point=(0, 4), end_point=(0, 46)>,\n",
       " <Node type=modifiers, start_point=(0, 4), end_point=(0, 18)>,\n",
       " <Node type=\"private\", start_point=(0, 4), end_point=(0, 11)>,\n",
       " <Node type=\"static\", start_point=(0, 12), end_point=(0, 18)>,\n",
       " <Node type=type_identifier, start_point=(0, 19), end_point=(0, 29)>,\n",
       " <Node type=variable_declarator, start_point=(0, 30), end_point=(0, 46)>,\n",
       " <Node type=identifier, start_point=(0, 30), end_point=(0, 46)>,\n",
       " <Node type=\";\", start_point=(0, 46), end_point=(0, 46)>,\n",
       " <Node type=ERROR, start_point=(0, 46), end_point=(0, 70)>,\n",
       " <Node type=formal_parameters, start_point=(0, 46), end_point=(0, 70)>,\n",
       " <Node type=\"(\", start_point=(0, 46), end_point=(0, 47)>,\n",
       " <Node type=formal_parameter, start_point=(0, 47), end_point=(0, 69)>,\n",
       " <Node type=type_identifier, start_point=(0, 47), end_point=(0, 61)>,\n",
       " <Node type=identifier, start_point=(0, 62), end_point=(0, 69)>,\n",
       " <Node type=\")\", start_point=(0, 69), end_point=(0, 70)>,\n",
       " <Node type=block, start_point=(0, 71), end_point=(15, 5)>,\n",
       " <Node type=\"{\", start_point=(0, 71), end_point=(0, 72)>,\n",
       " <Node type=try_statement, start_point=(1, 8), end_point=(13, 9)>,\n",
       " <Node type=\"try\", start_point=(1, 8), end_point=(1, 11)>,\n",
       " <Node type=block, start_point=(1, 12), end_point=(11, 9)>,\n",
       " <Node type=\"{\", start_point=(1, 12), end_point=(1, 13)>,\n",
       " <Node type=local_variable_declaration, start_point=(2, 12), end_point=(2, 96)>,\n",
       " <Node type=type_identifier, start_point=(2, 12), end_point=(2, 24)>,\n",
       " <Node type=variable_declarator, start_point=(2, 25), end_point=(2, 95)>,\n",
       " <Node type=identifier, start_point=(2, 25), end_point=(2, 37)>,\n",
       " <Node type=\"=\", start_point=(2, 38), end_point=(2, 39)>,\n",
       " <Node type=cast_expression, start_point=(2, 40), end_point=(2, 95)>,\n",
       " <Node type=\"(\", start_point=(2, 40), end_point=(2, 41)>,\n",
       " <Node type=type_identifier, start_point=(2, 41), end_point=(2, 53)>,\n",
       " <Node type=\")\", start_point=(2, 53), end_point=(2, 54)>,\n",
       " <Node type=method_invocation, start_point=(2, 55), end_point=(2, 95)>,\n",
       " <Node type=object_creation_expression, start_point=(2, 55), end_point=(2, 78)>,\n",
       " <Node type=\"new\", start_point=(2, 55), end_point=(2, 58)>,\n",
       " <Node type=type_identifier, start_point=(2, 59), end_point=(2, 76)>,\n",
       " <Node type=argument_list, start_point=(2, 76), end_point=(2, 78)>,\n",
       " <Node type=\"(\", start_point=(2, 76), end_point=(2, 77)>,\n",
       " <Node type=\")\", start_point=(2, 77), end_point=(2, 78)>,\n",
       " <Node type=\".\", start_point=(2, 78), end_point=(2, 79)>,\n",
       " <Node type=identifier, start_point=(2, 79), end_point=(2, 86)>,\n",
       " <Node type=argument_list, start_point=(2, 86), end_point=(2, 95)>,\n",
       " <Node type=\"(\", start_point=(2, 86), end_point=(2, 87)>,\n",
       " <Node type=identifier, start_point=(2, 87), end_point=(2, 94)>,\n",
       " <Node type=\")\", start_point=(2, 94), end_point=(2, 95)>,\n",
       " <Node type=\";\", start_point=(2, 95), end_point=(2, 96)>,\n",
       " <Node type=local_variable_declaration, start_point=(3, 12), end_point=(3, 57)>,\n",
       " <Node type=type_identifier, start_point=(3, 12), end_point=(3, 22)>,\n",
       " <Node type=variable_declarator, start_point=(3, 23), end_point=(3, 56)>,\n",
       " <Node type=identifier, start_point=(3, 23), end_point=(3, 29)>,\n",
       " <Node type=\"=\", start_point=(3, 30), end_point=(3, 31)>,\n",
       " <Node type=method_invocation, start_point=(3, 32), end_point=(3, 56)>,\n",
       " <Node type=identifier, start_point=(3, 32), end_point=(3, 44)>,\n",
       " <Node type=\".\", start_point=(3, 44), end_point=(3, 45)>,\n",
       " <Node type=identifier, start_point=(3, 45), end_point=(3, 54)>,\n",
       " <Node type=argument_list, start_point=(3, 54), end_point=(3, 56)>,\n",
       " <Node type=\"(\", start_point=(3, 54), end_point=(3, 55)>,\n",
       " <Node type=\")\", start_point=(3, 55), end_point=(3, 56)>,\n",
       " <Node type=\";\", start_point=(3, 56), end_point=(3, 57)>,\n",
       " <Node type=if_statement, start_point=(4, 12), end_point=(10, 13)>,\n",
       " <Node type=\"if\", start_point=(4, 12), end_point=(4, 14)>,\n",
       " <Node type=condition, start_point=(4, 15), end_point=(4, 31)>,\n",
       " <Node type=\"(\", start_point=(4, 15), end_point=(4, 16)>,\n",
       " <Node type=binary_expression, start_point=(4, 16), end_point=(4, 30)>,\n",
       " <Node type=identifier, start_point=(4, 16), end_point=(4, 22)>,\n",
       " <Node type=\"!=\", start_point=(4, 23), end_point=(4, 25)>,\n",
       " <Node type=null_literal, start_point=(4, 26), end_point=(4, 30)>,\n",
       " <Node type=\")\", start_point=(4, 30), end_point=(4, 31)>,\n",
       " <Node type=block, start_point=(4, 32), end_point=(10, 13)>,\n",
       " <Node type=\"{\", start_point=(4, 32), end_point=(4, 33)>,\n",
       " <Node type=local_variable_declaration, start_point=(5, 16), end_point=(5, 59)>,\n",
       " <Node type=type_identifier, start_point=(5, 16), end_point=(5, 27)>,\n",
       " <Node type=variable_declarator, start_point=(5, 28), end_point=(5, 58)>,\n",
       " <Node type=identifier, start_point=(5, 28), end_point=(5, 36)>,\n",
       " <Node type=\"=\", start_point=(5, 37), end_point=(5, 38)>,\n",
       " <Node type=method_invocation, start_point=(5, 39), end_point=(5, 58)>,\n",
       " <Node type=identifier, start_point=(5, 39), end_point=(5, 45)>,\n",
       " <Node type=\".\", start_point=(5, 45), end_point=(5, 46)>,\n",
       " <Node type=identifier, start_point=(5, 46), end_point=(5, 56)>,\n",
       " <Node type=argument_list, start_point=(5, 56), end_point=(5, 58)>,\n",
       " <Node type=\"(\", start_point=(5, 56), end_point=(5, 57)>,\n",
       " <Node type=\")\", start_point=(5, 57), end_point=(5, 58)>,\n",
       " <Node type=\";\", start_point=(5, 58), end_point=(5, 59)>,\n",
       " <Node type=local_variable_declaration, start_point=(6, 16), end_point=(6, 70)>,\n",
       " <Node type=type_identifier, start_point=(6, 16), end_point=(6, 22)>,\n",
       " <Node type=variable_declarator, start_point=(6, 23), end_point=(6, 69)>,\n",
       " <Node type=identifier, start_point=(6, 23), end_point=(6, 35)>,\n",
       " <Node type=\"=\", start_point=(6, 36), end_point=(6, 37)>,\n",
       " <Node type=method_invocation, start_point=(6, 38), end_point=(6, 69)>,\n",
       " <Node type=identifier, start_point=(6, 38), end_point=(6, 59)>,\n",
       " <Node type=argument_list, start_point=(6, 59), end_point=(6, 69)>,\n",
       " <Node type=\"(\", start_point=(6, 59), end_point=(6, 60)>,\n",
       " <Node type=identifier, start_point=(6, 60), end_point=(6, 68)>,\n",
       " <Node type=\")\", start_point=(6, 68), end_point=(6, 69)>,\n",
       " <Node type=\";\", start_point=(6, 69), end_point=(6, 70)>,\n",
       " <Node type=expression_statement, start_point=(7, 16), end_point=(7, 33)>,\n",
       " <Node type=method_invocation, start_point=(7, 16), end_point=(7, 32)>,\n",
       " <Node type=identifier, start_point=(7, 16), end_point=(7, 24)>,\n",
       " <Node type=\".\", start_point=(7, 24), end_point=(7, 25)>,\n",
       " <Node type=identifier, start_point=(7, 25), end_point=(7, 30)>,\n",
       " <Node type=argument_list, start_point=(7, 30), end_point=(7, 32)>,\n",
       " <Node type=\"(\", start_point=(7, 30), end_point=(7, 31)>,\n",
       " <Node type=\")\", start_point=(7, 31), end_point=(7, 32)>,\n",
       " <Node type=\";\", start_point=(7, 32), end_point=(7, 33)>,\n",
       " <Node type=local_variable_declaration, start_point=(8, 16), end_point=(8, 69)>,\n",
       " <Node type=type_identifier, start_point=(8, 16), end_point=(8, 26)>,\n",
       " <Node type=variable_declarator, start_point=(8, 27), end_point=(8, 68)>,\n",
       " <Node type=identifier, start_point=(8, 27), end_point=(8, 37)>,\n",
       " <Node type=\"=\", start_point=(8, 38), end_point=(8, 39)>,\n",
       " <Node type=object_creation_expression, start_point=(8, 40), end_point=(8, 68)>,\n",
       " <Node type=\"new\", start_point=(8, 40), end_point=(8, 43)>,\n",
       " <Node type=type_identifier, start_point=(8, 44), end_point=(8, 54)>,\n",
       " <Node type=argument_list, start_point=(8, 54), end_point=(8, 68)>,\n",
       " <Node type=\"(\", start_point=(8, 54), end_point=(8, 55)>,\n",
       " <Node type=identifier, start_point=(8, 55), end_point=(8, 67)>,\n",
       " <Node type=\")\", start_point=(8, 67), end_point=(8, 68)>,\n",
       " <Node type=\";\", start_point=(8, 68), end_point=(8, 69)>,\n",
       " <Node type=return_statement, start_point=(9, 16), end_point=(9, 34)>,\n",
       " <Node type=\"return\", start_point=(9, 16), end_point=(9, 22)>,\n",
       " <Node type=identifier, start_point=(9, 23), end_point=(9, 33)>,\n",
       " <Node type=\";\", start_point=(9, 33), end_point=(9, 34)>,\n",
       " <Node type=\"}\", start_point=(10, 12), end_point=(10, 13)>,\n",
       " <Node type=\"}\", start_point=(11, 8), end_point=(11, 9)>,\n",
       " <Node type=catch_clause, start_point=(11, 10), end_point=(13, 9)>,\n",
       " <Node type=\"catch\", start_point=(11, 10), end_point=(11, 15)>,\n",
       " <Node type=\"(\", start_point=(11, 16), end_point=(11, 17)>,\n",
       " <Node type=catch_formal_parameter, start_point=(11, 17), end_point=(11, 28)>,\n",
       " <Node type=catch_type, start_point=(11, 17), end_point=(11, 26)>,\n",
       " <Node type=type_identifier, start_point=(11, 17), end_point=(11, 26)>,\n",
       " <Node type=identifier, start_point=(11, 27), end_point=(11, 28)>,\n",
       " <Node type=\")\", start_point=(11, 28), end_point=(11, 29)>,\n",
       " <Node type=block, start_point=(11, 30), end_point=(13, 9)>,\n",
       " <Node type=\"{\", start_point=(11, 30), end_point=(11, 31)>,\n",
       " <Node type=expression_statement, start_point=(12, 12), end_point=(12, 32)>,\n",
       " <Node type=method_invocation, start_point=(12, 12), end_point=(12, 31)>,\n",
       " <Node type=identifier, start_point=(12, 12), end_point=(12, 13)>,\n",
       " <Node type=\".\", start_point=(12, 13), end_point=(12, 14)>,\n",
       " <Node type=identifier, start_point=(12, 14), end_point=(12, 29)>,\n",
       " <Node type=argument_list, start_point=(12, 29), end_point=(12, 31)>,\n",
       " <Node type=\"(\", start_point=(12, 29), end_point=(12, 30)>,\n",
       " <Node type=\")\", start_point=(12, 30), end_point=(12, 31)>,\n",
       " <Node type=\";\", start_point=(12, 31), end_point=(12, 32)>,\n",
       " <Node type=\"}\", start_point=(13, 8), end_point=(13, 9)>,\n",
       " <Node type=return_statement, start_point=(14, 8), end_point=(14, 20)>,\n",
       " <Node type=\"return\", start_point=(14, 8), end_point=(14, 14)>,\n",
       " <Node type=null_literal, start_point=(14, 15), end_point=(14, 19)>,\n",
       " <Node type=\";\", start_point=(14, 19), end_point=(14, 20)>,\n",
       " <Node type=\"}\", start_point=(15, 4), end_point=(15, 5)>]"
      ]
     },
     "execution_count": 330,
     "metadata": {},
     "output_type": "execute_result"
    }
   ],
   "source": [
    "nodes_flat"
   ]
  },
  {
   "cell_type": "code",
   "execution_count": null,
   "id": "9bdc6cc9",
   "metadata": {},
   "outputs": [],
   "source": []
  },
  {
   "cell_type": "code",
   "execution_count": null,
   "id": "e2d78fb8",
   "metadata": {},
   "outputs": [],
   "source": [
    "import dataset"
   ]
  }
 ],
 "metadata": {
  "kernelspec": {
   "display_name": "Python 3 (ipykernel)",
   "language": "python",
   "name": "python3"
  },
  "language_info": {
   "codemirror_mode": {
    "name": "ipython",
    "version": 3
   },
   "file_extension": ".py",
   "mimetype": "text/x-python",
   "name": "python",
   "nbconvert_exporter": "python",
   "pygments_lexer": "ipython3",
   "version": "3.10.2"
  }
 },
 "nbformat": 4,
 "nbformat_minor": 5
}
